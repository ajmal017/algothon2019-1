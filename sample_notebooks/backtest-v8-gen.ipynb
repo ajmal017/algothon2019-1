{
 "cells": [
  {
   "cell_type": "code",
   "execution_count": 4,
   "metadata": {},
   "outputs": [],
   "source": [
    "import pandas as pd\n",
    "import numpy as np\n",
    "import math"
   ]
  },
  {
   "cell_type": "markdown",
   "metadata": {},
   "source": [
    "# Methodology\n",
    "We implement the following methodology to create a uniform measure of forecasting ability:\n",
    "- __Data setup__: identify universe of assets, get returns for each period per asset;\n",
    "- __Forecast model__: run model to get model/forecast score for beginning of each period;"
   ]
  },
  {
   "cell_type": "markdown",
   "metadata": {},
   "source": [
    "----"
   ]
  },
  {
   "cell_type": "markdown",
   "metadata": {},
   "source": [
    "## Data Setup"
   ]
  },
  {
   "cell_type": "markdown",
   "metadata": {},
   "source": [
    "*Below we have generated the returns data normally distributed; this is the percentange change of the underlying assets X0000 to X0099*"
   ]
  },
  {
   "cell_type": "markdown",
   "metadata": {},
   "source": [
    "### Investment periods"
   ]
  },
  {
   "cell_type": "markdown",
   "metadata": {},
   "source": [
    "Sample periods: based on one rebalance per business day over 1 year.\n",
    "\n",
    "__Task__: Replace sample. The period length might be different than a day for your model.\n",
    "\n",
    "__Warning__: We keep things simple by ignoring non-trading days, you __should__ change this."
   ]
  },
  {
   "cell_type": "code",
   "execution_count": 6,
   "metadata": {},
   "outputs": [
    {
     "data": {
      "text/plain": [
       "DatetimeIndex(['2018-01-01', '2018-01-02', '2018-01-03', '2018-01-04',\n",
       "               '2018-01-05', '2018-01-08', '2018-01-09', '2018-01-10',\n",
       "               '2018-01-11', '2018-01-12',\n",
       "               ...\n",
       "               '2018-12-18', '2018-12-19', '2018-12-20', '2018-12-21',\n",
       "               '2018-12-24', '2018-12-25', '2018-12-26', '2018-12-27',\n",
       "               '2018-12-28', '2018-12-31'],\n",
       "              dtype='datetime64[ns]', name='period', length=261, freq='B')"
      ]
     },
     "execution_count": 6,
     "metadata": {},
     "output_type": "execute_result"
    }
   ],
   "source": [
    "periods = pd.date_range(start='2018-01-01', end='2018-12-31', freq='B', name='period')\n",
    "periods"
   ]
  },
  {
   "cell_type": "markdown",
   "metadata": {},
   "source": [
    "### Investable universe"
   ]
  },
  {
   "cell_type": "markdown",
   "metadata": {},
   "source": [
    "Sample universe: set of unique identifiers for assets.\n",
    "\n",
    "__Task__: Replace sample."
   ]
  },
  {
   "cell_type": "code",
   "execution_count": 8,
   "metadata": {},
   "outputs": [
    {
     "data": {
      "text/plain": [
       "0    X0000\n",
       "1    X0001\n",
       "2    X0002\n",
       "3    X0003\n",
       "4    X0004\n",
       "dtype: object"
      ]
     },
     "execution_count": 8,
     "metadata": {},
     "output_type": "execute_result"
    }
   ],
   "source": [
    "universe_size = 100\n",
    "universe = pd.Series(['X{:04d}'.format(x) for x in range(0, universe_size)])\n",
    "universe.head()"
   ]
  },
  {
   "cell_type": "markdown",
   "metadata": {},
   "source": [
    "### Periodic returns of universe"
   ]
  },
  {
   "cell_type": "markdown",
   "metadata": {},
   "source": [
    "Sample returns: just a randomised variable for now.\n",
    "\n",
    "__Task__: Replace sample for each period in your model."
   ]
  },
  {
   "cell_type": "markdown",
   "metadata": {},
   "source": [
    "---"
   ]
  },
  {
   "cell_type": "markdown",
   "metadata": {},
   "source": [
    "*__Definition__: Returns <p>\n",
    "Traditionally simple returns are denoted with a capital R and log returns with a lower-case r.  These are defined as:*\n",
    "\n",
    "*R<sub>t</sub> = (P<sub>t</sub> – P<sub>t-1</sub>) / P<sub>t-1</sub> = P<sub>t</sub> / P<sub>t-1</sub> – 1*\n",
    "\n",
    "*r<sub>t</sub> = log(P<sub>t</sub> / P<sub>t-1</sub>) = log(P<sub>t</sub>) – log(P<sub>t-1</sub>)*\n",
    "\n",
    "*where P<sub>t</sub> is the price of the asset at time t.  We are defining the return from time t-1 to time t.  The log function here is the natural logarithm.*"
   ]
  },
  {
   "cell_type": "markdown",
   "metadata": {},
   "source": [
    "---"
   ]
  },
  {
   "cell_type": "code",
   "execution_count": 11,
   "metadata": {},
   "outputs": [
    {
     "data": {
      "text/html": [
       "<div>\n",
       "<style scoped>\n",
       "    .dataframe tbody tr th:only-of-type {\n",
       "        vertical-align: middle;\n",
       "    }\n",
       "\n",
       "    .dataframe tbody tr th {\n",
       "        vertical-align: top;\n",
       "    }\n",
       "\n",
       "    .dataframe thead th {\n",
       "        text-align: right;\n",
       "    }\n",
       "</style>\n",
       "<table border=\"1\" class=\"dataframe\">\n",
       "  <thead>\n",
       "    <tr style=\"text-align: right;\">\n",
       "      <th></th>\n",
       "      <th>X0000</th>\n",
       "      <th>X0001</th>\n",
       "      <th>X0002</th>\n",
       "      <th>X0003</th>\n",
       "      <th>X0004</th>\n",
       "      <th>X0005</th>\n",
       "      <th>X0006</th>\n",
       "      <th>X0007</th>\n",
       "      <th>X0008</th>\n",
       "      <th>X0009</th>\n",
       "      <th>...</th>\n",
       "      <th>X0090</th>\n",
       "      <th>X0091</th>\n",
       "      <th>X0092</th>\n",
       "      <th>X0093</th>\n",
       "      <th>X0094</th>\n",
       "      <th>X0095</th>\n",
       "      <th>X0096</th>\n",
       "      <th>X0097</th>\n",
       "      <th>X0098</th>\n",
       "      <th>X0099</th>\n",
       "    </tr>\n",
       "    <tr>\n",
       "      <th>period</th>\n",
       "      <th></th>\n",
       "      <th></th>\n",
       "      <th></th>\n",
       "      <th></th>\n",
       "      <th></th>\n",
       "      <th></th>\n",
       "      <th></th>\n",
       "      <th></th>\n",
       "      <th></th>\n",
       "      <th></th>\n",
       "      <th></th>\n",
       "      <th></th>\n",
       "      <th></th>\n",
       "      <th></th>\n",
       "      <th></th>\n",
       "      <th></th>\n",
       "      <th></th>\n",
       "      <th></th>\n",
       "      <th></th>\n",
       "      <th></th>\n",
       "      <th></th>\n",
       "    </tr>\n",
       "  </thead>\n",
       "  <tbody>\n",
       "    <tr>\n",
       "      <th>2018-01-01</th>\n",
       "      <td>0.010908</td>\n",
       "      <td>0.000334</td>\n",
       "      <td>-0.000586</td>\n",
       "      <td>-0.006591</td>\n",
       "      <td>0.007305</td>\n",
       "      <td>-0.003786</td>\n",
       "      <td>0.005338</td>\n",
       "      <td>-0.001945</td>\n",
       "      <td>0.001255</td>\n",
       "      <td>0.013255</td>\n",
       "      <td>...</td>\n",
       "      <td>-0.014357</td>\n",
       "      <td>-0.012908</td>\n",
       "      <td>-0.005885</td>\n",
       "      <td>-0.009846</td>\n",
       "      <td>0.011709</td>\n",
       "      <td>0.000920</td>\n",
       "      <td>0.012995</td>\n",
       "      <td>0.011962</td>\n",
       "      <td>-0.000764</td>\n",
       "      <td>-0.001065</td>\n",
       "    </tr>\n",
       "    <tr>\n",
       "      <th>2018-01-02</th>\n",
       "      <td>0.007013</td>\n",
       "      <td>-0.003659</td>\n",
       "      <td>0.003218</td>\n",
       "      <td>-0.010403</td>\n",
       "      <td>0.020972</td>\n",
       "      <td>0.010219</td>\n",
       "      <td>0.000778</td>\n",
       "      <td>0.004748</td>\n",
       "      <td>0.003741</td>\n",
       "      <td>0.007320</td>\n",
       "      <td>...</td>\n",
       "      <td>0.007063</td>\n",
       "      <td>-0.004894</td>\n",
       "      <td>0.004412</td>\n",
       "      <td>0.007874</td>\n",
       "      <td>0.000113</td>\n",
       "      <td>0.009033</td>\n",
       "      <td>0.010397</td>\n",
       "      <td>-0.003984</td>\n",
       "      <td>0.005255</td>\n",
       "      <td>0.020058</td>\n",
       "    </tr>\n",
       "    <tr>\n",
       "      <th>2018-01-03</th>\n",
       "      <td>0.004695</td>\n",
       "      <td>-0.004861</td>\n",
       "      <td>0.019964</td>\n",
       "      <td>-0.001419</td>\n",
       "      <td>-0.005983</td>\n",
       "      <td>0.000125</td>\n",
       "      <td>-0.015753</td>\n",
       "      <td>0.013186</td>\n",
       "      <td>0.009251</td>\n",
       "      <td>0.000606</td>\n",
       "      <td>...</td>\n",
       "      <td>-0.002106</td>\n",
       "      <td>-0.005763</td>\n",
       "      <td>0.007291</td>\n",
       "      <td>0.026858</td>\n",
       "      <td>-0.003325</td>\n",
       "      <td>-0.021504</td>\n",
       "      <td>-0.022193</td>\n",
       "      <td>0.018268</td>\n",
       "      <td>-0.007994</td>\n",
       "      <td>0.010453</td>\n",
       "    </tr>\n",
       "    <tr>\n",
       "      <th>2018-01-04</th>\n",
       "      <td>-0.015665</td>\n",
       "      <td>-0.002899</td>\n",
       "      <td>0.011327</td>\n",
       "      <td>0.019781</td>\n",
       "      <td>0.004744</td>\n",
       "      <td>0.002890</td>\n",
       "      <td>-0.004013</td>\n",
       "      <td>0.006394</td>\n",
       "      <td>0.022979</td>\n",
       "      <td>0.015575</td>\n",
       "      <td>...</td>\n",
       "      <td>0.021140</td>\n",
       "      <td>-0.017054</td>\n",
       "      <td>0.012061</td>\n",
       "      <td>0.012999</td>\n",
       "      <td>-0.006308</td>\n",
       "      <td>0.007687</td>\n",
       "      <td>0.011646</td>\n",
       "      <td>0.010349</td>\n",
       "      <td>-0.006598</td>\n",
       "      <td>-0.002679</td>\n",
       "    </tr>\n",
       "    <tr>\n",
       "      <th>2018-01-05</th>\n",
       "      <td>0.001149</td>\n",
       "      <td>0.005960</td>\n",
       "      <td>-0.013397</td>\n",
       "      <td>0.002911</td>\n",
       "      <td>-0.018057</td>\n",
       "      <td>0.003730</td>\n",
       "      <td>0.007247</td>\n",
       "      <td>-0.012295</td>\n",
       "      <td>0.003293</td>\n",
       "      <td>-0.001851</td>\n",
       "      <td>...</td>\n",
       "      <td>0.008990</td>\n",
       "      <td>0.007926</td>\n",
       "      <td>-0.008188</td>\n",
       "      <td>0.003563</td>\n",
       "      <td>-0.010347</td>\n",
       "      <td>-0.001241</td>\n",
       "      <td>0.003493</td>\n",
       "      <td>0.007976</td>\n",
       "      <td>0.006351</td>\n",
       "      <td>0.000265</td>\n",
       "    </tr>\n",
       "  </tbody>\n",
       "</table>\n",
       "<p>5 rows × 100 columns</p>\n",
       "</div>"
      ],
      "text/plain": [
       "               X0000     X0001     X0002     X0003     X0004     X0005  \\\n",
       "period                                                                   \n",
       "2018-01-01  0.010908  0.000334 -0.000586 -0.006591  0.007305 -0.003786   \n",
       "2018-01-02  0.007013 -0.003659  0.003218 -0.010403  0.020972  0.010219   \n",
       "2018-01-03  0.004695 -0.004861  0.019964 -0.001419 -0.005983  0.000125   \n",
       "2018-01-04 -0.015665 -0.002899  0.011327  0.019781  0.004744  0.002890   \n",
       "2018-01-05  0.001149  0.005960 -0.013397  0.002911 -0.018057  0.003730   \n",
       "\n",
       "               X0006     X0007     X0008     X0009    ...        X0090  \\\n",
       "period                                                ...                \n",
       "2018-01-01  0.005338 -0.001945  0.001255  0.013255    ...    -0.014357   \n",
       "2018-01-02  0.000778  0.004748  0.003741  0.007320    ...     0.007063   \n",
       "2018-01-03 -0.015753  0.013186  0.009251  0.000606    ...    -0.002106   \n",
       "2018-01-04 -0.004013  0.006394  0.022979  0.015575    ...     0.021140   \n",
       "2018-01-05  0.007247 -0.012295  0.003293 -0.001851    ...     0.008990   \n",
       "\n",
       "               X0091     X0092     X0093     X0094     X0095     X0096  \\\n",
       "period                                                                   \n",
       "2018-01-01 -0.012908 -0.005885 -0.009846  0.011709  0.000920  0.012995   \n",
       "2018-01-02 -0.004894  0.004412  0.007874  0.000113  0.009033  0.010397   \n",
       "2018-01-03 -0.005763  0.007291  0.026858 -0.003325 -0.021504 -0.022193   \n",
       "2018-01-04 -0.017054  0.012061  0.012999 -0.006308  0.007687  0.011646   \n",
       "2018-01-05  0.007926 -0.008188  0.003563 -0.010347 -0.001241  0.003493   \n",
       "\n",
       "               X0097     X0098     X0099  \n",
       "period                                    \n",
       "2018-01-01  0.011962 -0.000764 -0.001065  \n",
       "2018-01-02 -0.003984  0.005255  0.020058  \n",
       "2018-01-03  0.018268 -0.007994  0.010453  \n",
       "2018-01-04  0.010349 -0.006598 -0.002679  \n",
       "2018-01-05  0.007976  0.006351  0.000265  \n",
       "\n",
       "[5 rows x 100 columns]"
      ]
     },
     "execution_count": 11,
     "metadata": {},
     "output_type": "execute_result"
    }
   ],
   "source": [
    "yearly_return = 0.05                     # for a sample 5% yearly growth\n",
    "period_return = yearly_return / 260.0    # business days\n",
    "returns = pd.DataFrame(data=[np.random.normal(period_return, 0.01, len(universe)) for p in periods], columns=universe, index=periods)\n",
    "returns.head()"
   ]
  },
  {
   "cell_type": "markdown",
   "metadata": {},
   "source": [
    "### Save Example Data"
   ]
  },
  {
   "cell_type": "code",
   "execution_count": 12,
   "metadata": {},
   "outputs": [],
   "source": [
    "returns.to_csv('returns_example_data.csv')"
   ]
  },
  {
   "cell_type": "markdown",
   "metadata": {},
   "source": [
    "---"
   ]
  },
  {
   "cell_type": "markdown",
   "metadata": {},
   "source": [
    "# Forecast model"
   ]
  },
  {
   "cell_type": "markdown",
   "metadata": {},
   "source": [
    "### Define forecast provider"
   ]
  },
  {
   "cell_type": "markdown",
   "metadata": {},
   "source": [
    "Sample provider: assume we can predict returns with random noise.\n",
    "\n",
    "__Task__: Replace sample function for each period in your model.\n",
    "\n",
    "__Warning__: This is only an example. Your model __should not__ use returns or any data from the same period but only from previous ones if relevant."
   ]
  },
  {
   "cell_type": "code",
   "execution_count": 13,
   "metadata": {},
   "outputs": [],
   "source": [
    "noise_factor = 10000.0\n",
    "def forecast(period):\n",
    "    return returns.loc[period].apply(lambda ret: ret + noise_factor * period_return * np.random.normal(0, 1))"
   ]
  },
  {
   "cell_type": "code",
   "execution_count": 14,
   "metadata": {},
   "outputs": [
    {
     "data": {
      "text/plain": [
       "X0000    0.781161\n",
       "X0001    0.265538\n",
       "X0002    0.890048\n",
       "X0003    1.203040\n",
       "X0004   -1.335270\n",
       "Name: 2018-01-01 00:00:00, dtype: float64"
      ]
     },
     "execution_count": 14,
     "metadata": {},
     "output_type": "execute_result"
    }
   ],
   "source": [
    "forecast(periods[0]).head()"
   ]
  },
  {
   "cell_type": "markdown",
   "metadata": {},
   "source": [
    "### First pass check"
   ]
  },
  {
   "cell_type": "markdown",
   "metadata": {},
   "source": [
    "Correlation against returns... anything positive is good! The closer to 1.0 the better!"
   ]
  },
  {
   "cell_type": "code",
   "execution_count": 23,
   "metadata": {},
   "outputs": [
    {
     "data": {
      "text/plain": [
       "0.005753698140956397"
      ]
     },
     "execution_count": 23,
     "metadata": {},
     "output_type": "execute_result"
    }
   ],
   "source": [
    "forecasts = pd.DataFrame(data=[forecast(p) for p in periods], index=periods)\n",
    "forecasts.corrwith(returns).mean()"
   ]
  },
  {
   "cell_type": "code",
   "execution_count": 24,
   "metadata": {},
   "outputs": [
    {
     "data": {
      "text/html": [
       "<div>\n",
       "<style scoped>\n",
       "    .dataframe tbody tr th:only-of-type {\n",
       "        vertical-align: middle;\n",
       "    }\n",
       "\n",
       "    .dataframe tbody tr th {\n",
       "        vertical-align: top;\n",
       "    }\n",
       "\n",
       "    .dataframe thead th {\n",
       "        text-align: right;\n",
       "    }\n",
       "</style>\n",
       "<table border=\"1\" class=\"dataframe\">\n",
       "  <thead>\n",
       "    <tr style=\"text-align: right;\">\n",
       "      <th></th>\n",
       "      <th>X0000</th>\n",
       "      <th>X0001</th>\n",
       "      <th>X0002</th>\n",
       "      <th>X0003</th>\n",
       "      <th>X0004</th>\n",
       "      <th>X0005</th>\n",
       "      <th>X0006</th>\n",
       "      <th>X0007</th>\n",
       "      <th>X0008</th>\n",
       "      <th>X0009</th>\n",
       "      <th>...</th>\n",
       "      <th>X0090</th>\n",
       "      <th>X0091</th>\n",
       "      <th>X0092</th>\n",
       "      <th>X0093</th>\n",
       "      <th>X0094</th>\n",
       "      <th>X0095</th>\n",
       "      <th>X0096</th>\n",
       "      <th>X0097</th>\n",
       "      <th>X0098</th>\n",
       "      <th>X0099</th>\n",
       "    </tr>\n",
       "    <tr>\n",
       "      <th>period</th>\n",
       "      <th></th>\n",
       "      <th></th>\n",
       "      <th></th>\n",
       "      <th></th>\n",
       "      <th></th>\n",
       "      <th></th>\n",
       "      <th></th>\n",
       "      <th></th>\n",
       "      <th></th>\n",
       "      <th></th>\n",
       "      <th></th>\n",
       "      <th></th>\n",
       "      <th></th>\n",
       "      <th></th>\n",
       "      <th></th>\n",
       "      <th></th>\n",
       "      <th></th>\n",
       "      <th></th>\n",
       "      <th></th>\n",
       "      <th></th>\n",
       "      <th></th>\n",
       "    </tr>\n",
       "  </thead>\n",
       "  <tbody>\n",
       "    <tr>\n",
       "      <th>2018-01-01</th>\n",
       "      <td>-2.107066</td>\n",
       "      <td>0.143936</td>\n",
       "      <td>-2.454639</td>\n",
       "      <td>-0.585614</td>\n",
       "      <td>-1.370174</td>\n",
       "      <td>-0.757645</td>\n",
       "      <td>-2.195033</td>\n",
       "      <td>0.244954</td>\n",
       "      <td>1.977399</td>\n",
       "      <td>1.771116</td>\n",
       "      <td>...</td>\n",
       "      <td>-0.743485</td>\n",
       "      <td>0.348614</td>\n",
       "      <td>-0.431445</td>\n",
       "      <td>4.395474</td>\n",
       "      <td>1.325933</td>\n",
       "      <td>-3.754003</td>\n",
       "      <td>-1.197294</td>\n",
       "      <td>-1.719758</td>\n",
       "      <td>-0.176842</td>\n",
       "      <td>-2.394018</td>\n",
       "    </tr>\n",
       "    <tr>\n",
       "      <th>2018-01-02</th>\n",
       "      <td>2.617617</td>\n",
       "      <td>-0.924026</td>\n",
       "      <td>0.652346</td>\n",
       "      <td>2.629858</td>\n",
       "      <td>0.304073</td>\n",
       "      <td>-5.356134</td>\n",
       "      <td>0.526060</td>\n",
       "      <td>0.467860</td>\n",
       "      <td>1.664121</td>\n",
       "      <td>0.550999</td>\n",
       "      <td>...</td>\n",
       "      <td>2.414521</td>\n",
       "      <td>-0.107721</td>\n",
       "      <td>-0.661561</td>\n",
       "      <td>-2.636892</td>\n",
       "      <td>-1.109693</td>\n",
       "      <td>0.359117</td>\n",
       "      <td>-1.182784</td>\n",
       "      <td>-1.648104</td>\n",
       "      <td>0.713900</td>\n",
       "      <td>1.753632</td>\n",
       "    </tr>\n",
       "    <tr>\n",
       "      <th>2018-01-03</th>\n",
       "      <td>-2.346082</td>\n",
       "      <td>-1.027965</td>\n",
       "      <td>1.325110</td>\n",
       "      <td>3.547902</td>\n",
       "      <td>3.533142</td>\n",
       "      <td>-0.010182</td>\n",
       "      <td>-3.707546</td>\n",
       "      <td>-0.376756</td>\n",
       "      <td>-0.552376</td>\n",
       "      <td>-1.441660</td>\n",
       "      <td>...</td>\n",
       "      <td>0.563521</td>\n",
       "      <td>-0.202065</td>\n",
       "      <td>3.103828</td>\n",
       "      <td>-2.702157</td>\n",
       "      <td>-1.454736</td>\n",
       "      <td>0.858888</td>\n",
       "      <td>-1.388349</td>\n",
       "      <td>2.304567</td>\n",
       "      <td>-2.244748</td>\n",
       "      <td>0.863345</td>\n",
       "    </tr>\n",
       "    <tr>\n",
       "      <th>2018-01-04</th>\n",
       "      <td>1.345747</td>\n",
       "      <td>2.661427</td>\n",
       "      <td>2.028670</td>\n",
       "      <td>-0.575971</td>\n",
       "      <td>-2.096493</td>\n",
       "      <td>2.940540</td>\n",
       "      <td>3.307477</td>\n",
       "      <td>1.562727</td>\n",
       "      <td>0.999004</td>\n",
       "      <td>0.419512</td>\n",
       "      <td>...</td>\n",
       "      <td>-2.130224</td>\n",
       "      <td>1.784122</td>\n",
       "      <td>-0.804171</td>\n",
       "      <td>0.709902</td>\n",
       "      <td>0.771744</td>\n",
       "      <td>-1.388993</td>\n",
       "      <td>0.913326</td>\n",
       "      <td>-0.733080</td>\n",
       "      <td>-3.139460</td>\n",
       "      <td>-1.182151</td>\n",
       "    </tr>\n",
       "    <tr>\n",
       "      <th>2018-01-05</th>\n",
       "      <td>-1.819045</td>\n",
       "      <td>1.636994</td>\n",
       "      <td>-0.313652</td>\n",
       "      <td>1.115260</td>\n",
       "      <td>0.154416</td>\n",
       "      <td>-1.318836</td>\n",
       "      <td>-0.587513</td>\n",
       "      <td>-1.227160</td>\n",
       "      <td>0.579190</td>\n",
       "      <td>2.622040</td>\n",
       "      <td>...</td>\n",
       "      <td>0.140813</td>\n",
       "      <td>0.223872</td>\n",
       "      <td>0.813251</td>\n",
       "      <td>-1.462279</td>\n",
       "      <td>0.797072</td>\n",
       "      <td>-1.886018</td>\n",
       "      <td>2.467804</td>\n",
       "      <td>1.277751</td>\n",
       "      <td>4.153122</td>\n",
       "      <td>1.002937</td>\n",
       "    </tr>\n",
       "  </tbody>\n",
       "</table>\n",
       "<p>5 rows × 100 columns</p>\n",
       "</div>"
      ],
      "text/plain": [
       "               X0000     X0001     X0002     X0003     X0004     X0005  \\\n",
       "period                                                                   \n",
       "2018-01-01 -2.107066  0.143936 -2.454639 -0.585614 -1.370174 -0.757645   \n",
       "2018-01-02  2.617617 -0.924026  0.652346  2.629858  0.304073 -5.356134   \n",
       "2018-01-03 -2.346082 -1.027965  1.325110  3.547902  3.533142 -0.010182   \n",
       "2018-01-04  1.345747  2.661427  2.028670 -0.575971 -2.096493  2.940540   \n",
       "2018-01-05 -1.819045  1.636994 -0.313652  1.115260  0.154416 -1.318836   \n",
       "\n",
       "               X0006     X0007     X0008     X0009    ...        X0090  \\\n",
       "period                                                ...                \n",
       "2018-01-01 -2.195033  0.244954  1.977399  1.771116    ...    -0.743485   \n",
       "2018-01-02  0.526060  0.467860  1.664121  0.550999    ...     2.414521   \n",
       "2018-01-03 -3.707546 -0.376756 -0.552376 -1.441660    ...     0.563521   \n",
       "2018-01-04  3.307477  1.562727  0.999004  0.419512    ...    -2.130224   \n",
       "2018-01-05 -0.587513 -1.227160  0.579190  2.622040    ...     0.140813   \n",
       "\n",
       "               X0091     X0092     X0093     X0094     X0095     X0096  \\\n",
       "period                                                                   \n",
       "2018-01-01  0.348614 -0.431445  4.395474  1.325933 -3.754003 -1.197294   \n",
       "2018-01-02 -0.107721 -0.661561 -2.636892 -1.109693  0.359117 -1.182784   \n",
       "2018-01-03 -0.202065  3.103828 -2.702157 -1.454736  0.858888 -1.388349   \n",
       "2018-01-04  1.784122 -0.804171  0.709902  0.771744 -1.388993  0.913326   \n",
       "2018-01-05  0.223872  0.813251 -1.462279  0.797072 -1.886018  2.467804   \n",
       "\n",
       "               X0097     X0098     X0099  \n",
       "period                                    \n",
       "2018-01-01 -1.719758 -0.176842 -2.394018  \n",
       "2018-01-02 -1.648104  0.713900  1.753632  \n",
       "2018-01-03  2.304567 -2.244748  0.863345  \n",
       "2018-01-04 -0.733080 -3.139460 -1.182151  \n",
       "2018-01-05  1.277751  4.153122  1.002937  \n",
       "\n",
       "[5 rows x 100 columns]"
      ]
     },
     "execution_count": 24,
     "metadata": {},
     "output_type": "execute_result"
    }
   ],
   "source": [
    "forecasts.head()"
   ]
  },
  {
   "cell_type": "code",
   "execution_count": 25,
   "metadata": {},
   "outputs": [],
   "source": [
    "forecasts.to_csv('forecast_example_data.csv')"
   ]
  }
 ],
 "metadata": {
  "kernelspec": {
   "display_name": "Python 3",
   "language": "python",
   "name": "python3"
  },
  "language_info": {
   "codemirror_mode": {
    "name": "ipython",
    "version": 3
   },
   "file_extension": ".py",
   "mimetype": "text/x-python",
   "name": "python",
   "nbconvert_exporter": "python",
   "pygments_lexer": "ipython3",
   "version": "3.6.8"
  }
 },
 "nbformat": 4,
 "nbformat_minor": 2
}
