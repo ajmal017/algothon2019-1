{
 "cells": [
  {
   "cell_type": "code",
   "execution_count": 76,
   "metadata": {},
   "outputs": [],
   "source": [
    "import quandl\n",
    "import pandas as pd\n",
    "import numpy as np\n",
    "import requests\n",
    "import json\n",
    "from datetime import date\n",
    "import os\n",
    "from datetime import datetime\n",
    "\n",
    "quandl.ApiConfig.api_key = 'VxZss34XgZXejjDqgZJr'\n",
    "%matplotlib inline"
   ]
  },
  {
   "cell_type": "code",
   "execution_count": 77,
   "metadata": {},
   "outputs": [
    {
     "data": {
      "text/html": [
       "<div>\n",
       "<style scoped>\n",
       "    .dataframe tbody tr th:only-of-type {\n",
       "        vertical-align: middle;\n",
       "    }\n",
       "\n",
       "    .dataframe tbody tr th {\n",
       "        vertical-align: top;\n",
       "    }\n",
       "\n",
       "    .dataframe thead th {\n",
       "        text-align: right;\n",
       "    }\n",
       "</style>\n",
       "<table border=\"1\" class=\"dataframe\">\n",
       "  <thead>\n",
       "    <tr style=\"text-align: right;\">\n",
       "      <th></th>\n",
       "      <th>publish_date</th>\n",
       "      <th>public_domain_date</th>\n",
       "      <th>accounting_as_of_date</th>\n",
       "      <th>supplier_name</th>\n",
       "      <th>supplier_isin</th>\n",
       "      <th>supplier_lei</th>\n",
       "      <th>supplier_exchange</th>\n",
       "      <th>supplier_ticker</th>\n",
       "      <th>customer_name</th>\n",
       "      <th>customer_isin</th>\n",
       "      <th>customer_lei</th>\n",
       "      <th>customer_exchange</th>\n",
       "      <th>customer_ticker</th>\n",
       "      <th>reporting_year</th>\n",
       "      <th>reporting_period</th>\n",
       "      <th>revenue_dependency</th>\n",
       "      <th>revenue_dependency_annotation</th>\n",
       "    </tr>\n",
       "    <tr>\n",
       "      <th>None</th>\n",
       "      <th></th>\n",
       "      <th></th>\n",
       "      <th></th>\n",
       "      <th></th>\n",
       "      <th></th>\n",
       "      <th></th>\n",
       "      <th></th>\n",
       "      <th></th>\n",
       "      <th></th>\n",
       "      <th></th>\n",
       "      <th></th>\n",
       "      <th></th>\n",
       "      <th></th>\n",
       "      <th></th>\n",
       "      <th></th>\n",
       "      <th></th>\n",
       "      <th></th>\n",
       "    </tr>\n",
       "  </thead>\n",
       "  <tbody>\n",
       "    <tr>\n",
       "      <th>0</th>\n",
       "      <td>2018-05-18</td>\n",
       "      <td>2018-04-17</td>\n",
       "      <td>2017-12-31</td>\n",
       "      <td>Caterpillar Inc.</td>\n",
       "      <td>US1491231015</td>\n",
       "      <td>None</td>\n",
       "      <td>NYSE</td>\n",
       "      <td>CAT</td>\n",
       "      <td>Deleum Berhad</td>\n",
       "      <td>MYL5132OO005</td>\n",
       "      <td>None</td>\n",
       "      <td>KLSE</td>\n",
       "      <td>DELEUM</td>\n",
       "      <td>2017.0</td>\n",
       "      <td>99.0</td>\n",
       "      <td>0.001165</td>\n",
       "      <td>Actual</td>\n",
       "    </tr>\n",
       "    <tr>\n",
       "      <th>1</th>\n",
       "      <td>2018-05-18</td>\n",
       "      <td>2017-04-26</td>\n",
       "      <td>2016-12-31</td>\n",
       "      <td>Caterpillar Inc.</td>\n",
       "      <td>US1491231015</td>\n",
       "      <td>None</td>\n",
       "      <td>NYSE</td>\n",
       "      <td>CAT</td>\n",
       "      <td>Deleum Berhad</td>\n",
       "      <td>MYL5132OO005</td>\n",
       "      <td>None</td>\n",
       "      <td>KLSE</td>\n",
       "      <td>DELEUM</td>\n",
       "      <td>2016.0</td>\n",
       "      <td>99.0</td>\n",
       "      <td>0.001718</td>\n",
       "      <td>Actual</td>\n",
       "    </tr>\n",
       "    <tr>\n",
       "      <th>2</th>\n",
       "      <td>2018-06-12</td>\n",
       "      <td>2018-04-17</td>\n",
       "      <td>2017-12-31</td>\n",
       "      <td>Caterpillar Inc.</td>\n",
       "      <td>US1491231015</td>\n",
       "      <td>None</td>\n",
       "      <td>NYSE</td>\n",
       "      <td>CAT</td>\n",
       "      <td>Deleum Berhad</td>\n",
       "      <td>MYL5132OO005</td>\n",
       "      <td>None</td>\n",
       "      <td>KLSE</td>\n",
       "      <td>DELEUM</td>\n",
       "      <td>2017.0</td>\n",
       "      <td>99.0</td>\n",
       "      <td>0.001165</td>\n",
       "      <td>Actual</td>\n",
       "    </tr>\n",
       "    <tr>\n",
       "      <th>3</th>\n",
       "      <td>2018-06-12</td>\n",
       "      <td>2017-04-26</td>\n",
       "      <td>2016-12-31</td>\n",
       "      <td>Caterpillar Inc.</td>\n",
       "      <td>US1491231015</td>\n",
       "      <td>None</td>\n",
       "      <td>NYSE</td>\n",
       "      <td>CAT</td>\n",
       "      <td>Deleum Berhad</td>\n",
       "      <td>MYL5132OO005</td>\n",
       "      <td>None</td>\n",
       "      <td>KLSE</td>\n",
       "      <td>DELEUM</td>\n",
       "      <td>2016.0</td>\n",
       "      <td>99.0</td>\n",
       "      <td>0.001718</td>\n",
       "      <td>Actual</td>\n",
       "    </tr>\n",
       "    <tr>\n",
       "      <th>4</th>\n",
       "      <td>2018-06-12</td>\n",
       "      <td>NaT</td>\n",
       "      <td>NaT</td>\n",
       "      <td>Caterpillar Inc.</td>\n",
       "      <td>US1491231015</td>\n",
       "      <td>None</td>\n",
       "      <td>NYSE</td>\n",
       "      <td>CAT</td>\n",
       "      <td>Victoria Oil &amp; Gas plc</td>\n",
       "      <td>GB00BRWR3752</td>\n",
       "      <td>213800JHNB148AXECS22</td>\n",
       "      <td>AIM</td>\n",
       "      <td>VOG</td>\n",
       "      <td>NaN</td>\n",
       "      <td>NaN</td>\n",
       "      <td>NaN</td>\n",
       "      <td>Non Quantifiable</td>\n",
       "    </tr>\n",
       "  </tbody>\n",
       "</table>\n",
       "</div>"
      ],
      "text/plain": [
       "     publish_date public_domain_date accounting_as_of_date     supplier_name  \\\n",
       "None                                                                           \n",
       "0      2018-05-18         2018-04-17            2017-12-31  Caterpillar Inc.   \n",
       "1      2018-05-18         2017-04-26            2016-12-31  Caterpillar Inc.   \n",
       "2      2018-06-12         2018-04-17            2017-12-31  Caterpillar Inc.   \n",
       "3      2018-06-12         2017-04-26            2016-12-31  Caterpillar Inc.   \n",
       "4      2018-06-12                NaT                   NaT  Caterpillar Inc.   \n",
       "\n",
       "     supplier_isin supplier_lei supplier_exchange supplier_ticker  \\\n",
       "None                                                                \n",
       "0     US1491231015         None              NYSE             CAT   \n",
       "1     US1491231015         None              NYSE             CAT   \n",
       "2     US1491231015         None              NYSE             CAT   \n",
       "3     US1491231015         None              NYSE             CAT   \n",
       "4     US1491231015         None              NYSE             CAT   \n",
       "\n",
       "               customer_name customer_isin          customer_lei  \\\n",
       "None                                                               \n",
       "0              Deleum Berhad  MYL5132OO005                  None   \n",
       "1              Deleum Berhad  MYL5132OO005                  None   \n",
       "2              Deleum Berhad  MYL5132OO005                  None   \n",
       "3              Deleum Berhad  MYL5132OO005                  None   \n",
       "4     Victoria Oil & Gas plc  GB00BRWR3752  213800JHNB148AXECS22   \n",
       "\n",
       "     customer_exchange customer_ticker  reporting_year  reporting_period  \\\n",
       "None                                                                       \n",
       "0                 KLSE          DELEUM          2017.0              99.0   \n",
       "1                 KLSE          DELEUM          2016.0              99.0   \n",
       "2                 KLSE          DELEUM          2017.0              99.0   \n",
       "3                 KLSE          DELEUM          2016.0              99.0   \n",
       "4                  AIM             VOG             NaN               NaN   \n",
       "\n",
       "      revenue_dependency revenue_dependency_annotation  \n",
       "None                                                    \n",
       "0               0.001165                        Actual  \n",
       "1               0.001718                        Actual  \n",
       "2               0.001165                        Actual  \n",
       "3               0.001718                        Actual  \n",
       "4                    NaN              Non Quantifiable  "
      ]
     },
     "execution_count": 77,
     "metadata": {},
     "output_type": "execute_result"
    }
   ],
   "source": [
    "ticker = 'CAT'\n",
    "us_exchanges = ['NYSE','NasdaqGS','NasdaqCM','NasdaqGM']\n",
    "ch_exchanges = ['SHSE', 'SZSE']\n",
    "\n",
    "company = quandl.get_table('GSCR/GSREF', ticker = ticker)\n",
    "coy_customers = quandl.get_table('GSCR/GSPLY', supplier_ticker=ticker)\n",
    "coy_customers.head()"
   ]
  },
  {
   "cell_type": "code",
   "execution_count": 78,
   "metadata": {},
   "outputs": [],
   "source": [
    "# Identify customers in the US and China\n",
    "customer_list = coy_customers[['customer_exchange','customer_ticker']].drop_duplicates()\n",
    "\n",
    "us_stocks = customer_list[customer_list['customer_exchange'].isin(us_exchanges)]\n",
    "china_stocks = customer_list[customer_list['customer_exchange'].isin(ch_exchanges)]"
   ]
  },
  {
   "cell_type": "code",
   "execution_count": 79,
   "metadata": {},
   "outputs": [
    {
     "data": {
      "text/plain": [
       "array(['AIM', 'AMEX', 'ASX', 'ATSE', 'BOVESPA', 'BSE', 'BVC', 'COSE',\n",
       "       'JKSE', 'JSE', 'KLSE', 'LSE', 'NYSE', 'NasdaqCM', 'NasdaqGS', 'OM',\n",
       "       'OTCPK', 'PSE', 'Private', 'SEHK', 'SNSE', 'TSX', 'TSXV'],\n",
       "      dtype=object)"
      ]
     },
     "execution_count": 79,
     "metadata": {},
     "output_type": "execute_result"
    }
   ],
   "source": [
    "# Exchanges\n",
    "np.unique(customer_list['customer_exchange'])"
   ]
  },
  {
   "cell_type": "code",
   "execution_count": 80,
   "metadata": {},
   "outputs": [
    {
     "name": "stdout",
     "output_type": "stream",
     "text": [
      "Download complete\n"
     ]
    }
   ],
   "source": [
    "# Download company and customer data\n",
    "if (os.path.exists(\"data/{}_prices.csv\".format(ticker))):\n",
    "    price_arr = pd.read_csv(\"data/{}_prices.csv\".format(ticker), index_col = 0)\n",
    "    price_arr.index = pd.to_datetime(price_arr.index)\n",
    "else :\n",
    "    print(\"Downloading {}...\".format(ticker))\n",
    "    price_arr = curr_download = quandl.get('EOD/{}'.format(ticker))\n",
    "    price_arr['ticker'] = ticker\n",
    "\n",
    "    # Download customer data\n",
    "    for index, row in us_stocks.iterrows():\n",
    "        print(\"Downloading {}...\".format(row['customer_ticker']))\n",
    "        try:\n",
    "            curr_download = quandl.get('EOD/{}'.format(row['customer_ticker']))\n",
    "            curr_download['ticker'] = row['customer_ticker']\n",
    "            price_arr = price_arr.append(curr_download)\n",
    "\n",
    "        except:\n",
    "            print(\"Error in downloading {}, {}!\".format(row['customer_ticker'], row['customer_exchange']))\n",
    "    price_arr.columns = [x.lower() for x in price_arr.columns]\n",
    "    price_arr.to_csv(\"data/{}_prices.csv\".format(ticker))\n",
    "print(\"Download complete\")"
   ]
  },
  {
   "cell_type": "code",
   "execution_count": 81,
   "metadata": {},
   "outputs": [
    {
     "name": "stdout",
     "output_type": "stream",
     "text": [
      "Download complete\n"
     ]
    }
   ],
   "source": [
    "# Download China data\n",
    "if (os.path.exists(\"data/{}_ch_prices.csv\".format(ticker))):\n",
    "    price_china = pd.read_csv(\"data/{}_ch_prices.csv\".format(ticker), index_col = 0)\n",
    "    price_china.index = pd.to_datetime(price_china.index)\n",
    "else :\n",
    "    price_china = pd.DataFrame()\n",
    "    for index, row in china_stocks.iterrows():\n",
    "        try:\n",
    "            print(\"Downloading {}...\".format(row['customer_ticker']))\n",
    "            curr_download = quandl.get_table('DY/SPA', ticker = row['customer_ticker'])\n",
    "            price_china = price_china.append(curr_download)\n",
    "\n",
    "        except:\n",
    "            print(\"Error in downloading {}, {}!\".format(row['customer_ticker'], row['customer_exchange']))\n",
    "\n",
    "    price_china.columns = [x.lower() for x in price_china.columns]\n",
    "    #price_china = price_china.set_index('date')\n",
    "    price_china.to_csv(\"data/{}_ch_prices.csv\".format(ticker))\n",
    "print(\"Download complete\")"
   ]
  },
  {
   "cell_type": "code",
   "execution_count": 82,
   "metadata": {},
   "outputs": [
    {
     "name": "stdout",
     "output_type": "stream",
     "text": [
      "Index(['open', 'high', 'low', 'close', 'volume', 'dividend', 'split',\n",
      "       'adj_open', 'adj_high', 'adj_low', 'adj_close', 'adj_volume', 'ticker'],\n",
      "      dtype='object')\n",
      "Index([], dtype='object')\n"
     ]
    }
   ],
   "source": [
    "print(price_arr.columns)\n",
    "print(price_china.columns)"
   ]
  },
  {
   "cell_type": "code",
   "execution_count": 83,
   "metadata": {},
   "outputs": [
    {
     "data": {
      "text/html": [
       "<div>\n",
       "<style scoped>\n",
       "    .dataframe tbody tr th:only-of-type {\n",
       "        vertical-align: middle;\n",
       "    }\n",
       "\n",
       "    .dataframe tbody tr th {\n",
       "        vertical-align: top;\n",
       "    }\n",
       "\n",
       "    .dataframe thead th {\n",
       "        text-align: right;\n",
       "    }\n",
       "</style>\n",
       "<table border=\"1\" class=\"dataframe\">\n",
       "  <thead>\n",
       "    <tr style=\"text-align: right;\">\n",
       "      <th></th>\n",
       "      <th>ticker</th>\n",
       "      <th>adj_open</th>\n",
       "      <th>adj_high</th>\n",
       "      <th>adj_low</th>\n",
       "      <th>adj_close</th>\n",
       "      <th>adj_volume</th>\n",
       "    </tr>\n",
       "    <tr>\n",
       "      <th>Date</th>\n",
       "      <th></th>\n",
       "      <th></th>\n",
       "      <th></th>\n",
       "      <th></th>\n",
       "      <th></th>\n",
       "      <th></th>\n",
       "    </tr>\n",
       "  </thead>\n",
       "  <tbody>\n",
       "    <tr>\n",
       "      <th>2019-03-20</th>\n",
       "      <td>CLD</td>\n",
       "      <td>0.1900</td>\n",
       "      <td>0.2378</td>\n",
       "      <td>0.1780</td>\n",
       "      <td>0.2070</td>\n",
       "      <td>14669095.0</td>\n",
       "    </tr>\n",
       "    <tr>\n",
       "      <th>2019-03-21</th>\n",
       "      <td>CLD</td>\n",
       "      <td>0.2055</td>\n",
       "      <td>0.2100</td>\n",
       "      <td>0.1900</td>\n",
       "      <td>0.1926</td>\n",
       "      <td>4908698.0</td>\n",
       "    </tr>\n",
       "    <tr>\n",
       "      <th>2019-03-22</th>\n",
       "      <td>CLD</td>\n",
       "      <td>0.1980</td>\n",
       "      <td>0.2040</td>\n",
       "      <td>0.1810</td>\n",
       "      <td>0.1865</td>\n",
       "      <td>4129543.0</td>\n",
       "    </tr>\n",
       "    <tr>\n",
       "      <th>2019-03-25</th>\n",
       "      <td>CLD</td>\n",
       "      <td>0.1800</td>\n",
       "      <td>0.1870</td>\n",
       "      <td>0.1620</td>\n",
       "      <td>0.1650</td>\n",
       "      <td>5702845.0</td>\n",
       "    </tr>\n",
       "    <tr>\n",
       "      <th>2019-03-26</th>\n",
       "      <td>CLD</td>\n",
       "      <td>0.1620</td>\n",
       "      <td>0.1730</td>\n",
       "      <td>0.1505</td>\n",
       "      <td>0.1565</td>\n",
       "      <td>1846394.0</td>\n",
       "    </tr>\n",
       "  </tbody>\n",
       "</table>\n",
       "</div>"
      ],
      "text/plain": [
       "           ticker  adj_open  adj_high  adj_low  adj_close  adj_volume\n",
       "Date                                                                 \n",
       "2019-03-20    CLD    0.1900    0.2378   0.1780     0.2070  14669095.0\n",
       "2019-03-21    CLD    0.2055    0.2100   0.1900     0.1926   4908698.0\n",
       "2019-03-22    CLD    0.1980    0.2040   0.1810     0.1865   4129543.0\n",
       "2019-03-25    CLD    0.1800    0.1870   0.1620     0.1650   5702845.0\n",
       "2019-03-26    CLD    0.1620    0.1730   0.1505     0.1565   1846394.0"
      ]
     },
     "execution_count": 83,
     "metadata": {},
     "output_type": "execute_result"
    }
   ],
   "source": [
    "# Combine US and China\n",
    "price_arr = price_arr[['ticker', 'adj_open', 'adj_high','adj_low','adj_close','adj_volume']]\n",
    "if len(price_china) > 0:\n",
    "    price_china = price_china[['ticker', 'adj_open', 'adj_high','adj_low','adj_close','turnover_volume']]\n",
    "\n",
    "    price_china.columns = ['ticker', 'adj_open', 'adj_high','adj_low','adj_close','adj_volume']\n",
    "    price_arr = price_arr.append(price_china)\n",
    "price_arr.tail()"
   ]
  },
  {
   "cell_type": "code",
   "execution_count": 84,
   "metadata": {},
   "outputs": [],
   "source": [
    "# Calculate returns\n",
    "price_arr.index = pd.to_datetime(price_arr.index)\n",
    "price_arr = price_arr['2015-01-01':'2019-09-30']\n",
    "price_wide = price_arr[['ticker','adj_close']].pivot(columns = 'ticker')\n",
    "returns_arr = price_wide / price_wide.shift(1) - 1\n",
    "returns_arr = returns_arr.fillna(0)[2:]  #Fill holidays with 0, remove first 2 rows\n",
    "\n",
    "returns_arr.columns = returns_arr.columns.droplevel()"
   ]
  },
  {
   "cell_type": "code",
   "execution_count": 85,
   "metadata": {},
   "outputs": [],
   "source": [
    "# Download sentiment\n",
    "fbup = quandl.get_table('SMA/FBUP', created_time = {'gte': '2015-01-01'}, brand_ticker=ticker)\n",
    "fbup['date'] = pd.to_datetime(fbup['created_time']).dt.date\n",
    "fbup = fbup.replace({'sentiment' : { 'NEGATIVE' : -1, 'POSITIVE' : 1, 'NEUTRAL' : 0, 'UNDEFINED':0 }})\n",
    "\n",
    "fbup['positive_sentiment'] = np.where(fbup['sentiment'] > 0, 1, 0)\n",
    "fbup['negative_sentiment'] = np.where(fbup['sentiment'] < 0, 1, 0)\n",
    "fbup['scaled_pos'] = fbup['positive_sentiment'] * np.log(fbup['likes'] + fbup['shares'] + 1)\n",
    "fbup['scaled_neg'] = fbup['negative_sentiment'] * np.log(fbup['likes'] + fbup['shares'] + 1)\n",
    "\n",
    "fb_sentiment = fbup.groupby('date')[['positive_sentiment','negative_sentiment', 'scaled_pos', 'scaled_neg']].sum()\n",
    "#fb_sentiment = fbup.groupby('date')[['positive_sentiment','negative_sentiment']].sum()\n",
    "fb_sentiment = fb_sentiment.fillna(0)\n",
    "fb_sentiment['scaled_sum'] = fb_sentiment['scaled_pos'] - fb_sentiment['scaled_neg']\n",
    "\n",
    "returns_arr = returns_arr.join(fb_sentiment)\n",
    "returns_arr = returns_arr.fillna(0)"
   ]
  },
  {
   "cell_type": "code",
   "execution_count": 86,
   "metadata": {},
   "outputs": [],
   "source": [
    "def add_lags(returns_arr, lags):\n",
    "    all_ret = returns_arr\n",
    "    \n",
    "    for lag in range(1, lags + 1):\n",
    "        returns_lagged = returns_arr.shift(lag)\n",
    "        returns_lagged.columns = [str(x) + \"_lag{}\".format(lag) for x in returns_lagged.columns.to_list()]\n",
    "        \n",
    "        all_ret = pd.concat([all_ret, returns_lagged], axis=1)\n",
    "    \n",
    "    return all_ret[lags:]"
   ]
  },
  {
   "cell_type": "code",
   "execution_count": 87,
   "metadata": {},
   "outputs": [],
   "source": [
    "returns_arr = add_lags(returns_arr, 10)"
   ]
  },
  {
   "cell_type": "code",
   "execution_count": 88,
   "metadata": {},
   "outputs": [],
   "source": [
    "target_stock = returns_arr[ticker]\n",
    "cust_stock = returns_arr[[x for x in returns_arr.columns if x != ticker]]\n",
    "\n",
    "cust_stock = cust_stock.shift(1)[1:] # Lag 1 for prediction"
   ]
  },
  {
   "cell_type": "code",
   "execution_count": 89,
   "metadata": {},
   "outputs": [
    {
     "data": {
      "text/plain": [
       "((1181, 329), (1181,))"
      ]
     },
     "execution_count": 89,
     "metadata": {},
     "output_type": "execute_result"
    }
   ],
   "source": [
    "X = cust_stock\n",
    "y = target_stock[1:]\n",
    "X.shape, y.shape"
   ]
  },
  {
   "cell_type": "code",
   "execution_count": 90,
   "metadata": {},
   "outputs": [],
   "source": [
    "from sklearn.model_selection import train_test_split\n",
    "from sklearn.linear_model import RidgeClassifierCV\n",
    "from sklearn.ensemble import RandomForestClassifier, AdaBoostClassifier\n",
    "from sklearn.pipeline import make_pipeline\n",
    "from sklearn.preprocessing import RobustScaler\n",
    "from sklearn.model_selection import TimeSeriesSplit\n",
    "from sklearn.svm import SVC\n",
    "from sklearn.gaussian_process import GaussianProcessClassifier\n",
    "from sklearn.gaussian_process.kernels import RBF\n",
    "from sklearn.neural_network import MLPClassifier\n",
    "import xgboost as xgb\n",
    "from xgboost import XGBClassifier\n",
    "from mlxtend.classifier import StackingCVClassifier\n",
    "from sklearn.metrics import confusion_matrix\n",
    "from sklearn.utils import class_weight\n",
    "\n",
    "# import warnings filter\n",
    "from warnings import simplefilter\n",
    "# ignore all future warnings\n",
    "simplefilter(action='ignore', category=FutureWarning)"
   ]
  },
  {
   "cell_type": "code",
   "execution_count": 91,
   "metadata": {},
   "outputs": [
    {
     "data": {
      "text/plain": [
       "((1062, 329), (119, 329))"
      ]
     },
     "execution_count": 91,
     "metadata": {},
     "output_type": "execute_result"
    }
   ],
   "source": [
    "X_train, X_test, y_train, y_test = train_test_split(X, y, test_size = 0.10, shuffle = False)\n",
    "#X_train, X_val, y_train, y_val = train_test_split(X_train, y_train, test_size = 0.15, shuffle = False)\n",
    "X_train.shape, X_test.shape"
   ]
  },
  {
   "cell_type": "code",
   "execution_count": 92,
   "metadata": {},
   "outputs": [],
   "source": [
    "std = y_train.std()\n",
    "y_train_ret = y_train\n",
    "y_train = pd.cut(y_train, [-500*std,-1*std, -0.5*std, 0.5*std, 1*std,500*std], labels=[-2,-1,0,1,2]) \n",
    "#y_val = pd.cut(y_val, [-500*std,-1*std, -0.5*std, 0.5*std, 1*std,500*std], labels=[-2,-1,0,1,2]) \n",
    "y_test_ret = y_test\n",
    "y_test = pd.cut(y_test, [-500*std,-1*std, -0.5*std, 0.5*std, 1*std,500*std], labels=[-2,-1,0,1,2]) "
   ]
  },
  {
   "cell_type": "code",
   "execution_count": 93,
   "metadata": {},
   "outputs": [],
   "source": [
    "alphas_alt = [0.01, 0.05, 0.1, 1, 5, 10]\n",
    "alphas2 = [5e-05, 0.0001, 0.0002, 0.0003, 0.0004, 0.0005, 0.0006, 0.0007, 0.0008]\n",
    "e_alphas = [0.0001, 0.0002, 0.0003, 0.0004, 0.0005, 0.0006, 0.0007]\n",
    "e_l1ratio = [0.8, 0.85, 0.9, 0.95, 0.99, 1]"
   ]
  },
  {
   "cell_type": "code",
   "execution_count": 94,
   "metadata": {},
   "outputs": [],
   "source": [
    "cw = class_weight.compute_class_weight('balanced', np.unique(y_train), y_train)\n",
    "cw = {-2:cw[0], -1:cw[1], 0:cw[2], 1:cw[3], 2:cw[4]}"
   ]
  },
  {
   "cell_type": "code",
   "execution_count": 95,
   "metadata": {},
   "outputs": [],
   "source": [
    "tscv = TimeSeriesSplit(n_splits=5)\n",
    "\n",
    "ridge = make_pipeline(RobustScaler(),\n",
    "                     RidgeClassifierCV(alphas = alphas_alt, cv = tscv, class_weight = cw))\n",
    "\n",
    "rfc = make_pipeline(RobustScaler(),\n",
    "                     RandomForestClassifier(n_estimators=50, max_depth=4,random_state=0, class_weight = cw))\n",
    "\n",
    "svc = make_pipeline(RobustScaler(),\n",
    "                    SVC(gamma='auto', class_weight = cw))\n",
    "\n",
    "svc_linear = make_pipeline(RobustScaler(),\n",
    "                           SVC(kernel=\"linear\", C=0.025, class_weight = cw))\n",
    "\n",
    "nn = make_pipeline(RobustScaler(),\n",
    "                  MLPClassifier(alpha=10, max_iter=1000),)\n",
    "\n",
    "xgboost = make_pipeline(RobustScaler(),\n",
    "                  XGBClassifier(learning_rate=0.01, n_estimators=50,\n",
    "                                max_depth=3, min_child_weight=0,\n",
    "                                gamma=10))   \n",
    "\n",
    "ada = make_pipeline(RobustScaler(),\n",
    "                   AdaBoostClassifier(n_estimators = 200, learning_rate = 0.05))\n"
   ]
  },
  {
   "cell_type": "code",
   "execution_count": 96,
   "metadata": {},
   "outputs": [
    {
     "data": {
      "text/plain": [
       "Pipeline(memory=None,\n",
       "         steps=[('robustscaler',\n",
       "                 RobustScaler(copy=True, quantile_range=(25.0, 75.0),\n",
       "                              with_centering=True, with_scaling=True)),\n",
       "                ('randomforestclassifier',\n",
       "                 RandomForestClassifier(bootstrap=True,\n",
       "                                        class_weight={-2: 1.7129032258064516,\n",
       "                                                      -1: 1.6992,\n",
       "                                                      0: 0.40767754318618044,\n",
       "                                                      1: 1.495774647887324,\n",
       "                                                      2: 1.416},\n",
       "                                        criterion='gini', max_depth=4,\n",
       "                                        max_features='auto',\n",
       "                                        max_leaf_nodes=None,\n",
       "                                        min_impurity_decrease=0.0,\n",
       "                                        min_impurity_split=None,\n",
       "                                        min_samples_leaf=1, min_samples_split=2,\n",
       "                                        min_weight_fraction_leaf=0.0,\n",
       "                                        n_estimators=50, n_jobs=None,\n",
       "                                        oob_score=False, random_state=0,\n",
       "                                        verbose=0, warm_start=False))],\n",
       "         verbose=False)"
      ]
     },
     "execution_count": 96,
     "metadata": {},
     "output_type": "execute_result"
    }
   ],
   "source": [
    "rfc.fit(np.array(X_train), np.array(y_train))\n"
   ]
  },
  {
   "cell_type": "code",
   "execution_count": 97,
   "metadata": {},
   "outputs": [],
   "source": [
    "stack_gen = StackingCVClassifier(classifiers=(ridge, rfc, svc, svc_linear, nn, xgboost, ada),\n",
    "                               meta_classifier=xgboost,\n",
    "                               use_features_in_secondary=True)"
   ]
  },
  {
   "cell_type": "code",
   "execution_count": 98,
   "metadata": {},
   "outputs": [
    {
     "name": "stdout",
     "output_type": "stream",
     "text": [
      "0.4915254237288136 0.4369747899159664\n",
      "CPU times: user 50.2 s, sys: 2.75 ms, total: 50.2 s\n",
      "Wall time: 50.2 s\n"
     ]
    }
   ],
   "source": [
    "%%time\n",
    "# Fit data\n",
    "stack_gen.fit(np.array(X_train), np.array(y_train))\n",
    "print(stack_gen.score(X_train,y_train), stack_gen.score(X_test, y_test))"
   ]
  },
  {
   "cell_type": "code",
   "execution_count": 99,
   "metadata": {},
   "outputs": [
    {
     "name": "stdout",
     "output_type": "stream",
     "text": [
      "START Fit\n",
      "2019-10-20 08:16:50.927144 Ridge\n",
      "2019-10-20 08:16:51.265199 RandomForest\n",
      "2019-10-20 08:16:51.574072 SVC\n",
      "2019-10-20 08:16:52.603521 SVC (linear)\n",
      "2019-10-20 08:16:58.596551 Neural Network\n",
      "CPU times: user 11 s, sys: 0 ns, total: 11 s\n",
      "Wall time: 11 s\n"
     ]
    }
   ],
   "source": [
    "%%time\n",
    "print('START Fit')\n",
    "print(datetime.now(), 'Ridge')\n",
    "ridge_model = ridge.fit(np.array(X_train), np.array(y_train))\n",
    "print(datetime.now(), 'RandomForest')\n",
    "rfc_model = rfc.fit(X_train, y_train)\n",
    "print(datetime.now(), 'SVC')\n",
    "svc_model = svc.fit(X_train, y_train)\n",
    "print(datetime.now(), 'SVC (linear)')\n",
    "svc_linear_model = svc_linear.fit(X_train, y_train)\n",
    "#print(datetime.now(), 'Gaussian Probability')\n",
    "#gpc_model = gpc.fit(X_train, y_train)\n",
    "print(datetime.now(), 'Neural Network')\n",
    "nn_model = nn.fit(X_train, y_train)\n",
    "#print(datetime.now(), 'xgboost')\n",
    "#xgb_model = xgboost.fit(X_train, y_train, xgbclassifier__sample_weight = cw)\n",
    "#print(datetime.now(), 'AdaBoost')\n",
    "#ada_model = ada.fit(X_train, y_train, adaboostclassifier__sample_weight = cw)"
   ]
  },
  {
   "cell_type": "code",
   "execution_count": 74,
   "metadata": {},
   "outputs": [
    {
     "name": "stdout",
     "output_type": "stream",
     "text": [
      "0.007532956685499058 0.031073446327683617 0.06497175141242938 0.011299435028248588 0.0743879472693032\n"
     ]
    }
   ],
   "source": [
    "print(ridge_model.predict(X_train).mean(),\n",
    "      rfc_model.predict(X_train).mean(),\n",
    "      svc_model.predict(X_train).mean(),\n",
    "      svc_linear_model.predict(X_train).mean(),\n",
    "      #gpc_model.predict(X_train).mean(),\n",
    "      nn_model.predict(X_train).mean())\n",
    "      #xgb_model.predict(X_train).mean(),\n",
    "      #ada_model.predict(X_train).mean())\n",
    "      \n",
    "      "
   ]
  },
  {
   "cell_type": "code",
   "execution_count": 100,
   "metadata": {},
   "outputs": [],
   "source": [
    "returns = pd.DataFrame({\n",
    "    'stock': y_test_ret,\n",
    "    'ridge': ridge_model.predict(X_test) * y_test_ret * 0.5,\n",
    "    'rfc': rfc_model.predict(X_test) * y_test_ret * 0.5,\n",
    "    'svc': svc_linear_model.predict(X_test) * y_test_ret * 0.5,\n",
    "    'nn': nn_model.predict(X_test) * y_test_ret * 0.5\n",
    "})"
   ]
  },
  {
   "cell_type": "code",
   "execution_count": 101,
   "metadata": {},
   "outputs": [
    {
     "data": {
      "text/plain": [
       "<matplotlib.axes._subplots.AxesSubplot at 0x7f34d8098748>"
      ]
     },
     "execution_count": 101,
     "metadata": {},
     "output_type": "execute_result"
    },
    {
     "data": {
      "image/png": "[encoded data removed]",
      "text/plain": [
       "<Figure size 432x288 with 1 Axes>"
      ]
     },
     "metadata": {},
     "output_type": "display_data"
    }
   ],
   "source": [
    "returns.cumsum().plot()"
   ]
  },
  {
   "cell_type": "code",
   "execution_count": 102,
   "metadata": {},
   "outputs": [
    {
     "data": {
      "text/plain": [
       "array([[ 2,  2,  5,  3,  4],\n",
       "       [ 3,  3,  9,  2,  4],\n",
       "       [ 3,  6, 15,  6,  2],\n",
       "       [ 1,  0,  8,  5,  3],\n",
       "       [ 6,  6, 15,  2,  4]])"
      ]
     },
     "execution_count": 102,
     "metadata": {},
     "output_type": "execute_result"
    }
   ],
   "source": [
    "confusion_matrix(ridge_model.predict(X_test), y_test)"
   ]
  },
  {
   "cell_type": "code",
   "execution_count": 103,
   "metadata": {},
   "outputs": [
    {
     "data": {
      "text/plain": [
       " 0    52\n",
       " 1    18\n",
       " 2    17\n",
       "-1    17\n",
       "-2    15\n",
       "Name: CAT, dtype: int64"
      ]
     },
     "execution_count": 103,
     "metadata": {},
     "output_type": "execute_result"
    }
   ],
   "source": [
    "y_test.value_counts()"
   ]
  },
  {
   "cell_type": "code",
   "execution_count": 104,
   "metadata": {},
   "outputs": [
    {
     "data": {
      "text/plain": [
       "<matplotlib.axes._subplots.AxesSubplot at 0x7f34d7f5b358>"
      ]
     },
     "execution_count": 104,
     "metadata": {},
     "output_type": "execute_result"
    },
    {
     "data": {
      "image/png": "[encoded data removed]",
      "text/plain": [
       "<Figure size 720x432 with 1 Axes>"
      ]
     },
     "metadata": {},
     "output_type": "display_data"
    }
   ],
   "source": [
    "def drawdown(returns):\n",
    "    return returns.cumsum() - returns.cumsum().cummax()\n",
    "\n",
    "drawdown(returns).plot(figsize = (10, 6), title = \"Drawdown\")"
   ]
  },
  {
   "cell_type": "code",
   "execution_count": 105,
   "metadata": {},
   "outputs": [
    {
     "name": "stdout",
     "output_type": "stream",
     "text": [
      "RMSLE score on train data\n"
     ]
    },
    {
     "ename": "NameError",
     "evalue": "name 'rmsle' is not defined",
     "output_type": "error",
     "traceback": [
      "\u001b[0;31m---------------------------------------------------------------------------\u001b[0m",
      "\u001b[0;31mNameError\u001b[0m                                 Traceback (most recent call last)",
      "\u001b[0;32m<ipython-input-105-c82c24fcfcf1>\u001b[0m in \u001b[0;36m<module>\u001b[0;34m()\u001b[0m\n\u001b[1;32m     10\u001b[0m \u001b[0;34m\u001b[0m\u001b[0m\n\u001b[1;32m     11\u001b[0m \u001b[0mprint\u001b[0m\u001b[0;34m(\u001b[0m\u001b[0;34m\"RMSLE score on train data\"\u001b[0m\u001b[0;34m)\u001b[0m\u001b[0;34m\u001b[0m\u001b[0m\n\u001b[0;32m---> 12\u001b[0;31m \u001b[0mprint\u001b[0m\u001b[0;34m(\u001b[0m\u001b[0mrmsle\u001b[0m\u001b[0;34m(\u001b[0m\u001b[0my\u001b[0m\u001b[0;34m,\u001b[0m \u001b[0mblend_models_predict\u001b[0m\u001b[0;34m(\u001b[0m\u001b[0mX\u001b[0m\u001b[0;34m)\u001b[0m\u001b[0;34m)\u001b[0m\u001b[0;34m)\u001b[0m\u001b[0;34m\u001b[0m\u001b[0m\n\u001b[0m",
      "\u001b[0;31mNameError\u001b[0m: name 'rmsle' is not defined"
     ]
    }
   ],
   "source": [
    "def blend_models_predict(X):\n",
    "    return ((0.1 * elastic_model_full_data.predict(X)) +\n",
    "           0.1 * lasso_model_full_data.predict(X) + \n",
    "           0.1 * ridge_model_full_data.predict(X) + \n",
    "           0.1 * svr_model_full_data.predict(X) + \n",
    "           0.1 * gbr_model_full_data.predict(X) + \n",
    "           0.15 * xgb_model_full_data.predict(X) + \n",
    "           0.1 * lgb_model_full_data.predict(X) + \n",
    "           0.25 * stack_gen_model.predict(np.array(X)))\n",
    "\n",
    "print(\"RMSLE score on train data\")\n",
    "print(rmsle(y, blend_models_predict(X)))"
   ]
  },
  {
   "cell_type": "markdown",
   "metadata": {},
   "source": [
    "# Generate timeseries for customers "
   ]
  },
  {
   "cell_type": "code",
   "execution_count": 263,
   "metadata": {},
   "outputs": [
    {
     "data": {
      "text/html": [
       "<div>\n",
       "<style scoped>\n",
       "    .dataframe tbody tr th:only-of-type {\n",
       "        vertical-align: middle;\n",
       "    }\n",
       "\n",
       "    .dataframe tbody tr th {\n",
       "        vertical-align: top;\n",
       "    }\n",
       "\n",
       "    .dataframe thead th {\n",
       "        text-align: right;\n",
       "    }\n",
       "</style>\n",
       "<table border=\"1\" class=\"dataframe\">\n",
       "  <thead>\n",
       "    <tr style=\"text-align: right;\">\n",
       "      <th></th>\n",
       "      <th>publish_date</th>\n",
       "      <th>public_domain_date</th>\n",
       "      <th>accounting_as_of_date</th>\n",
       "      <th>supplier_name</th>\n",
       "      <th>supplier_isin</th>\n",
       "      <th>supplier_lei</th>\n",
       "      <th>supplier_exchange</th>\n",
       "      <th>supplier_ticker</th>\n",
       "      <th>customer_name</th>\n",
       "      <th>customer_isin</th>\n",
       "      <th>customer_lei</th>\n",
       "      <th>customer_exchange</th>\n",
       "      <th>customer_ticker</th>\n",
       "      <th>reporting_year</th>\n",
       "      <th>reporting_period</th>\n",
       "      <th>revenue_dependency</th>\n",
       "      <th>revenue_dependency_annotation</th>\n",
       "    </tr>\n",
       "    <tr>\n",
       "      <th>None</th>\n",
       "      <th></th>\n",
       "      <th></th>\n",
       "      <th></th>\n",
       "      <th></th>\n",
       "      <th></th>\n",
       "      <th></th>\n",
       "      <th></th>\n",
       "      <th></th>\n",
       "      <th></th>\n",
       "      <th></th>\n",
       "      <th></th>\n",
       "      <th></th>\n",
       "      <th></th>\n",
       "      <th></th>\n",
       "      <th></th>\n",
       "      <th></th>\n",
       "      <th></th>\n",
       "    </tr>\n",
       "  </thead>\n",
       "  <tbody>\n",
       "    <tr>\n",
       "      <th>88</th>\n",
       "      <td>2018-05-18</td>\n",
       "      <td>NaT</td>\n",
       "      <td>NaT</td>\n",
       "      <td>Apple Inc.</td>\n",
       "      <td>US0378331005</td>\n",
       "      <td>HWUPKR0MPOU8FGXBT394</td>\n",
       "      <td>NasdaqGS</td>\n",
       "      <td>AAPL</td>\n",
       "      <td>America Movil S.A.B. de C.V.</td>\n",
       "      <td>MXP001691213</td>\n",
       "      <td>5493000FNR3UCEAONM59</td>\n",
       "      <td>NYSE</td>\n",
       "      <td>AMX</td>\n",
       "      <td>NaN</td>\n",
       "      <td>NaN</td>\n",
       "      <td>NaN</td>\n",
       "      <td>Non Quantifiable</td>\n",
       "    </tr>\n",
       "    <tr>\n",
       "      <th>265</th>\n",
       "      <td>2018-06-12</td>\n",
       "      <td>NaT</td>\n",
       "      <td>NaT</td>\n",
       "      <td>Apple Inc.</td>\n",
       "      <td>US0378331005</td>\n",
       "      <td>HWUPKR0MPOU8FGXBT394</td>\n",
       "      <td>NasdaqGS</td>\n",
       "      <td>AAPL</td>\n",
       "      <td>America Movil S.A.B. de C.V.</td>\n",
       "      <td>MXP001691213</td>\n",
       "      <td>5493000FNR3UCEAONM59</td>\n",
       "      <td>NYSE</td>\n",
       "      <td>AMX</td>\n",
       "      <td>NaN</td>\n",
       "      <td>NaN</td>\n",
       "      <td>NaN</td>\n",
       "      <td>Non Quantifiable</td>\n",
       "    </tr>\n",
       "    <tr>\n",
       "      <th>442</th>\n",
       "      <td>2018-07-09</td>\n",
       "      <td>NaT</td>\n",
       "      <td>NaT</td>\n",
       "      <td>Apple Inc.</td>\n",
       "      <td>US0378331005</td>\n",
       "      <td>HWUPKR0MPOU8FGXBT394</td>\n",
       "      <td>NasdaqGS</td>\n",
       "      <td>AAPL</td>\n",
       "      <td>America Movil S.A.B. de C.V.</td>\n",
       "      <td>MXP001691213</td>\n",
       "      <td>5493000FNR3UCEAONM59</td>\n",
       "      <td>NYSE</td>\n",
       "      <td>AMX</td>\n",
       "      <td>NaN</td>\n",
       "      <td>NaN</td>\n",
       "      <td>NaN</td>\n",
       "      <td>Non Quantifiable</td>\n",
       "    </tr>\n",
       "    <tr>\n",
       "      <th>619</th>\n",
       "      <td>2018-08-08</td>\n",
       "      <td>NaT</td>\n",
       "      <td>NaT</td>\n",
       "      <td>Apple Inc.</td>\n",
       "      <td>US0378331005</td>\n",
       "      <td>HWUPKR0MPOU8FGXBT394</td>\n",
       "      <td>NasdaqGS</td>\n",
       "      <td>AAPL</td>\n",
       "      <td>America Movil S.A.B. de C.V.</td>\n",
       "      <td>MXP001691213</td>\n",
       "      <td>5493000FNR3UCEAONM59</td>\n",
       "      <td>NYSE</td>\n",
       "      <td>AMX</td>\n",
       "      <td>NaN</td>\n",
       "      <td>NaN</td>\n",
       "      <td>NaN</td>\n",
       "      <td>Non Quantifiable</td>\n",
       "    </tr>\n",
       "    <tr>\n",
       "      <th>796</th>\n",
       "      <td>2018-05-18</td>\n",
       "      <td>NaT</td>\n",
       "      <td>NaT</td>\n",
       "      <td>Apple Inc.</td>\n",
       "      <td>US0378331005</td>\n",
       "      <td>HWUPKR0MPOU8FGXBT394</td>\n",
       "      <td>NasdaqGS</td>\n",
       "      <td>AAPL</td>\n",
       "      <td>America Movil S.A.B. de C.V.</td>\n",
       "      <td>MXP001691213</td>\n",
       "      <td>5493000FNR3UCEAONM59</td>\n",
       "      <td>NYSE</td>\n",
       "      <td>AMX</td>\n",
       "      <td>NaN</td>\n",
       "      <td>NaN</td>\n",
       "      <td>NaN</td>\n",
       "      <td>Non Quantifiable</td>\n",
       "    </tr>\n",
       "  </tbody>\n",
       "</table>\n",
       "</div>"
      ],
      "text/plain": [
       "     publish_date public_domain_date accounting_as_of_date supplier_name  \\\n",
       "None                                                                       \n",
       "88     2018-05-18                NaT                   NaT    Apple Inc.   \n",
       "265    2018-06-12                NaT                   NaT    Apple Inc.   \n",
       "442    2018-07-09                NaT                   NaT    Apple Inc.   \n",
       "619    2018-08-08                NaT                   NaT    Apple Inc.   \n",
       "796    2018-05-18                NaT                   NaT    Apple Inc.   \n",
       "\n",
       "     supplier_isin          supplier_lei supplier_exchange supplier_ticker  \\\n",
       "None                                                                         \n",
       "88    US0378331005  HWUPKR0MPOU8FGXBT394          NasdaqGS            AAPL   \n",
       "265   US0378331005  HWUPKR0MPOU8FGXBT394          NasdaqGS            AAPL   \n",
       "442   US0378331005  HWUPKR0MPOU8FGXBT394          NasdaqGS            AAPL   \n",
       "619   US0378331005  HWUPKR0MPOU8FGXBT394          NasdaqGS            AAPL   \n",
       "796   US0378331005  HWUPKR0MPOU8FGXBT394          NasdaqGS            AAPL   \n",
       "\n",
       "                     customer_name customer_isin          customer_lei  \\\n",
       "None                                                                     \n",
       "88    America Movil S.A.B. de C.V.  MXP001691213  5493000FNR3UCEAONM59   \n",
       "265   America Movil S.A.B. de C.V.  MXP001691213  5493000FNR3UCEAONM59   \n",
       "442   America Movil S.A.B. de C.V.  MXP001691213  5493000FNR3UCEAONM59   \n",
       "619   America Movil S.A.B. de C.V.  MXP001691213  5493000FNR3UCEAONM59   \n",
       "796   America Movil S.A.B. de C.V.  MXP001691213  5493000FNR3UCEAONM59   \n",
       "\n",
       "     customer_exchange customer_ticker  reporting_year  reporting_period  \\\n",
       "None                                                                       \n",
       "88                NYSE             AMX             NaN               NaN   \n",
       "265               NYSE             AMX             NaN               NaN   \n",
       "442               NYSE             AMX             NaN               NaN   \n",
       "619               NYSE             AMX             NaN               NaN   \n",
       "796               NYSE             AMX             NaN               NaN   \n",
       "\n",
       "      revenue_dependency revenue_dependency_annotation  \n",
       "None                                                    \n",
       "88                   NaN              Non Quantifiable  \n",
       "265                  NaN              Non Quantifiable  \n",
       "442                  NaN              Non Quantifiable  \n",
       "619                  NaN              Non Quantifiable  \n",
       "796                  NaN              Non Quantifiable  "
      ]
     },
     "execution_count": 263,
     "metadata": {},
     "output_type": "execute_result"
    }
   ],
   "source": [
    "coy_customers[coy_customers['customer_ticker'] == \"AMX\"].head()"
   ]
  },
  {
   "cell_type": "code",
   "execution_count": 261,
   "metadata": {
    "collapsed": true,
    "jupyter": {
     "outputs_hidden": true
    }
   },
   "outputs": [
    {
     "data": {
      "text/plain": [
       "customer_ticker\n",
       "AMX           NaT\n",
       "BBY    2010-04-28\n",
       "CDW           NaT\n",
       "CHL    2014-04-08\n",
       "CNV           NaT\n",
       "CNXN          NaT\n",
       "DCM    2010-06-24\n",
       "DFS           NaT\n",
       "DPZ           NaT\n",
       "EEFT          NaT\n",
       "GRPN          NaT\n",
       "HAS           NaT\n",
       "HAWK          NaT\n",
       "HBAN          NaT\n",
       "HGG           NaT\n",
       "IBM           NaT\n",
       "IM     2013-05-07\n",
       "LKM           NaT\n",
       "LXK           NaT\n",
       "MEET          NaT\n",
       "MOBL          NaT\n",
       "NETE          NaT\n",
       "NEWR          NaT\n",
       "NIHD          NaT\n",
       "NSIT          NaT\n",
       "NTRS          NaT\n",
       "NXTM          NaT\n",
       "PCMI          NaT\n",
       "PHG           NaT\n",
       "PLUS          NaT\n",
       "PNRA          NaT\n",
       "RCII          NaT\n",
       "S      2014-05-27\n",
       "T      2014-02-21\n",
       "TDOC          NaT\n",
       "TECD   2012-03-21\n",
       "TMUS   2014-02-25\n",
       "TTWO          NaT\n",
       "TWTR          NaT\n",
       "USM           NaT\n",
       "VZ     2006-03-14\n",
       "XRX           NaT\n",
       "Name: public_domain_date, dtype: datetime64[ns]"
      ]
     },
     "execution_count": 261,
     "metadata": {},
     "output_type": "execute_result"
    }
   ],
   "source": [
    "coy_customers[coy_customers['customer_exchange'].isin(us_exchanges)].groupby(['customer_ticker'])['public_domain_date'].min()"
   ]
  },
  {
   "cell_type": "markdown",
   "metadata": {},
   "source": [
    "# Get refinitive price"
   ]
  },
  {
   "cell_type": "code",
   "execution_count": 33,
   "metadata": {},
   "outputs": [],
   "source": [
    "# Global functions - make HTTP GET reqeust\n",
    "def get_data_request(url, requestData):\n",
    "    dResp = requests.get(url, headers = {'X-api-key': access_token}, params = requestData);       \n",
    "\n",
    "    \n",
    "    if dResp.status_code != 200:\n",
    "        print(\"Unable to get data. Code %s, Message: %s\" % (dResp.status_code, dResp.text));\n",
    "    else:\n",
    "        print(\"Data access successful\")\n",
    "        jResp = json.loads(dResp.text);\n",
    "        return jResp"
   ]
  },
  {
   "cell_type": "code",
   "execution_count": 56,
   "metadata": {},
   "outputs": [
    {
     "name": "stdout",
     "output_type": "stream",
     "text": [
      "Unable to get data. Code 400, Message: Field: end must be on or before 2019-06-30\n"
     ]
    },
    {
     "data": {
      "text/html": [
       "<div>\n",
       "<style scoped>\n",
       "    .dataframe tbody tr th:only-of-type {\n",
       "        vertical-align: middle;\n",
       "    }\n",
       "\n",
       "    .dataframe tbody tr th {\n",
       "        vertical-align: top;\n",
       "    }\n",
       "\n",
       "    .dataframe thead th {\n",
       "        text-align: right;\n",
       "    }\n",
       "</style>\n",
       "<table border=\"1\" class=\"dataframe\">\n",
       "  <thead>\n",
       "    <tr style=\"text-align: right;\">\n",
       "      <th></th>\n",
       "      <th>DATE</th>\n",
       "      <th>CLOSE</th>\n",
       "      <th>BID</th>\n",
       "    </tr>\n",
       "    <tr>\n",
       "      <th>DATE</th>\n",
       "      <th></th>\n",
       "      <th></th>\n",
       "      <th></th>\n",
       "    </tr>\n",
       "  </thead>\n",
       "  <tbody>\n",
       "    <tr>\n",
       "      <th>2016-11-01</th>\n",
       "      <td>2016-11-01</td>\n",
       "      <td>111.49</td>\n",
       "      <td>111.48</td>\n",
       "    </tr>\n",
       "    <tr>\n",
       "      <th>2016-11-02</th>\n",
       "      <td>2016-11-02</td>\n",
       "      <td>111.59</td>\n",
       "      <td>111.60</td>\n",
       "    </tr>\n",
       "    <tr>\n",
       "      <th>2016-11-03</th>\n",
       "      <td>2016-11-03</td>\n",
       "      <td>109.83</td>\n",
       "      <td>109.82</td>\n",
       "    </tr>\n",
       "    <tr>\n",
       "      <th>2016-11-04</th>\n",
       "      <td>2016-11-04</td>\n",
       "      <td>108.84</td>\n",
       "      <td>108.84</td>\n",
       "    </tr>\n",
       "    <tr>\n",
       "      <th>2016-11-07</th>\n",
       "      <td>2016-11-07</td>\n",
       "      <td>110.41</td>\n",
       "      <td>110.40</td>\n",
       "    </tr>\n",
       "  </tbody>\n",
       "</table>\n",
       "</div>"
      ],
      "text/plain": [
       "                  DATE   CLOSE     BID\n",
       "DATE                                  \n",
       "2016-11-01  2016-11-01  111.49  111.48\n",
       "2016-11-02  2016-11-02  111.59  111.60\n",
       "2016-11-03  2016-11-03  109.83  109.82\n",
       "2016-11-04  2016-11-04  108.84  108.84\n",
       "2016-11-07  2016-11-07  110.41  110.40"
      ]
     },
     "execution_count": 56,
     "metadata": {},
     "output_type": "execute_result"
    }
   ],
   "source": [
    "ric = 'AAPL.O' # APPLE\n",
    "start_date = '2016-11-01'\n",
    "end_date = '2019-06-30'\n",
    "\n",
    "RESOURCE_ENDPOINT = \"https://dsa-stg-edp-api.fr-nonprod.aws.thomsonreuters.com/data/historical-pricing/beta1/views/summaries/\" + ric\n",
    "access_token = 'KihQNsQ4zK9hitOqy1AoN4F2GJA8Hhwh4JMXn8bL'  # your personal key for Data Science Accelerator access to Pricing Data\n",
    "requestData = {\n",
    "    \"interval\": \"P1D\",\n",
    "    \"start\": start_date,\n",
    "    \"end\": end_date,\n",
    "    \"fields\": 'TRDPRC_1,BID,ASK,OPEN_PRC,HIGH_1,LOW_1,TRDPRC_1,NUM_MOVES,TRNOVR_UNS'\n",
    "};\n",
    "\n",
    "jResp = get_data_request(RESOURCE_ENDPOINT, requestData)\n",
    "\n",
    "\n",
    "if jResp is not None:\n",
    "    data = jResp[0]['data']\n",
    "    headers = jResp[0]['headers']  \n",
    "    names = [headers[x]['name'] for x in range(len(headers))]\n",
    "    close_price = pd.DataFrame(data, columns=names )\n",
    "    \n",
    "close_price.columns = ['DATE', 'CLOSE', 'BID']\n",
    "close_price.set_index(pd.to_datetime(close_price.DATE), inplace=True) # set the index to be the DATE\n",
    "close_price.sort_index(inplace=True)  # sort the dataframe by the newly created datetime index\n",
    "\n",
    "close_price.head()"
   ]
  },
  {
   "cell_type": "code",
   "execution_count": null,
   "metadata": {},
   "outputs": [],
   "source": []
  }
 ],
 "metadata": {
  "kernelspec": {
   "display_name": "conda_tensorflow_p36",
   "language": "python",
   "name": "conda_tensorflow_p36"
  },
  "language_info": {
   "codemirror_mode": {
    "name": "ipython",
    "version": 3
   },
   "file_extension": ".py",
   "mimetype": "text/x-python",
   "name": "python",
   "nbconvert_exporter": "python",
   "pygments_lexer": "ipython3",
   "version": "3.6.5"
  }
 },
 "nbformat": 4,
 "nbformat_minor": 4
}
