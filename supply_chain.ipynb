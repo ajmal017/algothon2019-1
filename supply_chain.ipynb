{
 "cells": [
  {
   "cell_type": "code",
   "execution_count": 1,
   "metadata": {},
   "outputs": [],
   "source": [
    "import quandl\n",
    "import pandas as pd\n",
    "import numpy as np\n",
    "import requests\n",
    "import json\n",
    "from datetime import date\n",
    "import os\n",
    "from datetime import datetime\n",
    "\n",
    "quandl.ApiConfig.api_key = 'VxZss34XgZXejjDqgZJr'"
   ]
  },
  {
   "cell_type": "code",
   "execution_count": 2,
   "metadata": {},
   "outputs": [
    {
     "data": {
      "text/html": [
       "<div>\n",
       "<style scoped>\n",
       "    .dataframe tbody tr th:only-of-type {\n",
       "        vertical-align: middle;\n",
       "    }\n",
       "\n",
       "    .dataframe tbody tr th {\n",
       "        vertical-align: top;\n",
       "    }\n",
       "\n",
       "    .dataframe thead th {\n",
       "        text-align: right;\n",
       "    }\n",
       "</style>\n",
       "<table border=\"1\" class=\"dataframe\">\n",
       "  <thead>\n",
       "    <tr style=\"text-align: right;\">\n",
       "      <th></th>\n",
       "      <th>publish_date</th>\n",
       "      <th>public_domain_date</th>\n",
       "      <th>accounting_as_of_date</th>\n",
       "      <th>supplier_name</th>\n",
       "      <th>supplier_isin</th>\n",
       "      <th>supplier_lei</th>\n",
       "      <th>supplier_exchange</th>\n",
       "      <th>supplier_ticker</th>\n",
       "      <th>customer_name</th>\n",
       "      <th>customer_isin</th>\n",
       "      <th>customer_lei</th>\n",
       "      <th>customer_exchange</th>\n",
       "      <th>customer_ticker</th>\n",
       "      <th>reporting_year</th>\n",
       "      <th>reporting_period</th>\n",
       "      <th>revenue_dependency</th>\n",
       "      <th>revenue_dependency_annotation</th>\n",
       "    </tr>\n",
       "    <tr>\n",
       "      <th>None</th>\n",
       "      <th></th>\n",
       "      <th></th>\n",
       "      <th></th>\n",
       "      <th></th>\n",
       "      <th></th>\n",
       "      <th></th>\n",
       "      <th></th>\n",
       "      <th></th>\n",
       "      <th></th>\n",
       "      <th></th>\n",
       "      <th></th>\n",
       "      <th></th>\n",
       "      <th></th>\n",
       "      <th></th>\n",
       "      <th></th>\n",
       "      <th></th>\n",
       "      <th></th>\n",
       "    </tr>\n",
       "  </thead>\n",
       "  <tbody>\n",
       "    <tr>\n",
       "      <th>0</th>\n",
       "      <td>2018-05-18</td>\n",
       "      <td>2016-02-18</td>\n",
       "      <td>2015-12-31</td>\n",
       "      <td>Apple Inc.</td>\n",
       "      <td>US0378331005</td>\n",
       "      <td>HWUPKR0MPOU8FGXBT394</td>\n",
       "      <td>NasdaqGS</td>\n",
       "      <td>AAPL</td>\n",
       "      <td>AT&amp;T Inc.</td>\n",
       "      <td>US00206R1023</td>\n",
       "      <td>549300Z40J86GGSTL398</td>\n",
       "      <td>NYSE</td>\n",
       "      <td>T</td>\n",
       "      <td>2015.0</td>\n",
       "      <td>99.0</td>\n",
       "      <td>0.034</td>\n",
       "      <td>Estimated</td>\n",
       "    </tr>\n",
       "    <tr>\n",
       "      <th>1</th>\n",
       "      <td>2018-05-18</td>\n",
       "      <td>2015-02-20</td>\n",
       "      <td>2014-12-31</td>\n",
       "      <td>Apple Inc.</td>\n",
       "      <td>US0378331005</td>\n",
       "      <td>HWUPKR0MPOU8FGXBT394</td>\n",
       "      <td>NasdaqGS</td>\n",
       "      <td>AAPL</td>\n",
       "      <td>AT&amp;T Inc.</td>\n",
       "      <td>US00206R1023</td>\n",
       "      <td>549300Z40J86GGSTL398</td>\n",
       "      <td>NYSE</td>\n",
       "      <td>T</td>\n",
       "      <td>2014.0</td>\n",
       "      <td>99.0</td>\n",
       "      <td>0.040</td>\n",
       "      <td>Estimated</td>\n",
       "    </tr>\n",
       "    <tr>\n",
       "      <th>2</th>\n",
       "      <td>2018-05-18</td>\n",
       "      <td>2014-02-21</td>\n",
       "      <td>2013-12-31</td>\n",
       "      <td>Apple Inc.</td>\n",
       "      <td>US0378331005</td>\n",
       "      <td>HWUPKR0MPOU8FGXBT394</td>\n",
       "      <td>NasdaqGS</td>\n",
       "      <td>AAPL</td>\n",
       "      <td>AT&amp;T Inc.</td>\n",
       "      <td>US00206R1023</td>\n",
       "      <td>549300Z40J86GGSTL398</td>\n",
       "      <td>NYSE</td>\n",
       "      <td>T</td>\n",
       "      <td>2013.0</td>\n",
       "      <td>99.0</td>\n",
       "      <td>0.029</td>\n",
       "      <td>Estimated</td>\n",
       "    </tr>\n",
       "    <tr>\n",
       "      <th>3</th>\n",
       "      <td>2018-05-18</td>\n",
       "      <td>2017-02-21</td>\n",
       "      <td>2016-12-31</td>\n",
       "      <td>Apple Inc.</td>\n",
       "      <td>US0378331005</td>\n",
       "      <td>HWUPKR0MPOU8FGXBT394</td>\n",
       "      <td>NasdaqGS</td>\n",
       "      <td>AAPL</td>\n",
       "      <td>Verizon Communications Inc.</td>\n",
       "      <td>US92343V1044</td>\n",
       "      <td>2S72QS2UO2OESLG6Y829</td>\n",
       "      <td>NYSE</td>\n",
       "      <td>VZ</td>\n",
       "      <td>2016.0</td>\n",
       "      <td>99.0</td>\n",
       "      <td>0.041</td>\n",
       "      <td>Estimated</td>\n",
       "    </tr>\n",
       "    <tr>\n",
       "      <th>4</th>\n",
       "      <td>2018-05-18</td>\n",
       "      <td>2016-02-23</td>\n",
       "      <td>2015-12-31</td>\n",
       "      <td>Apple Inc.</td>\n",
       "      <td>US0378331005</td>\n",
       "      <td>HWUPKR0MPOU8FGXBT394</td>\n",
       "      <td>NasdaqGS</td>\n",
       "      <td>AAPL</td>\n",
       "      <td>Verizon Communications Inc.</td>\n",
       "      <td>US92343V1044</td>\n",
       "      <td>2S72QS2UO2OESLG6Y829</td>\n",
       "      <td>NYSE</td>\n",
       "      <td>VZ</td>\n",
       "      <td>2015.0</td>\n",
       "      <td>99.0</td>\n",
       "      <td>0.037</td>\n",
       "      <td>Estimated</td>\n",
       "    </tr>\n",
       "  </tbody>\n",
       "</table>\n",
       "</div>"
      ],
      "text/plain": [
       "     publish_date public_domain_date accounting_as_of_date supplier_name  \\\n",
       "None                                                                       \n",
       "0      2018-05-18         2016-02-18            2015-12-31    Apple Inc.   \n",
       "1      2018-05-18         2015-02-20            2014-12-31    Apple Inc.   \n",
       "2      2018-05-18         2014-02-21            2013-12-31    Apple Inc.   \n",
       "3      2018-05-18         2017-02-21            2016-12-31    Apple Inc.   \n",
       "4      2018-05-18         2016-02-23            2015-12-31    Apple Inc.   \n",
       "\n",
       "     supplier_isin          supplier_lei supplier_exchange supplier_ticker  \\\n",
       "None                                                                         \n",
       "0     US0378331005  HWUPKR0MPOU8FGXBT394          NasdaqGS            AAPL   \n",
       "1     US0378331005  HWUPKR0MPOU8FGXBT394          NasdaqGS            AAPL   \n",
       "2     US0378331005  HWUPKR0MPOU8FGXBT394          NasdaqGS            AAPL   \n",
       "3     US0378331005  HWUPKR0MPOU8FGXBT394          NasdaqGS            AAPL   \n",
       "4     US0378331005  HWUPKR0MPOU8FGXBT394          NasdaqGS            AAPL   \n",
       "\n",
       "                    customer_name customer_isin          customer_lei  \\\n",
       "None                                                                    \n",
       "0                       AT&T Inc.  US00206R1023  549300Z40J86GGSTL398   \n",
       "1                       AT&T Inc.  US00206R1023  549300Z40J86GGSTL398   \n",
       "2                       AT&T Inc.  US00206R1023  549300Z40J86GGSTL398   \n",
       "3     Verizon Communications Inc.  US92343V1044  2S72QS2UO2OESLG6Y829   \n",
       "4     Verizon Communications Inc.  US92343V1044  2S72QS2UO2OESLG6Y829   \n",
       "\n",
       "     customer_exchange customer_ticker  reporting_year  reporting_period  \\\n",
       "None                                                                       \n",
       "0                 NYSE               T          2015.0              99.0   \n",
       "1                 NYSE               T          2014.0              99.0   \n",
       "2                 NYSE               T          2013.0              99.0   \n",
       "3                 NYSE              VZ          2016.0              99.0   \n",
       "4                 NYSE              VZ          2015.0              99.0   \n",
       "\n",
       "      revenue_dependency revenue_dependency_annotation  \n",
       "None                                                    \n",
       "0                  0.034                     Estimated  \n",
       "1                  0.040                     Estimated  \n",
       "2                  0.029                     Estimated  \n",
       "3                  0.041                     Estimated  \n",
       "4                  0.037                     Estimated  "
      ]
     },
     "execution_count": 2,
     "metadata": {},
     "output_type": "execute_result"
    }
   ],
   "source": [
    "ticker = 'AAPL'\n",
    "us_exchanges = ['NYSE','NasdaqGS','NasdaqCM','NasdaqGM']\n",
    "ch_exchanges = ['SHSE', 'SZSE']\n",
    "\n",
    "company = quandl.get_table('GSCR/GSREF', ticker = ticker)\n",
    "coy_customers = quandl.get_table('GSCR/GSPLY', supplier_ticker=ticker)\n",
    "coy_customers.head()"
   ]
  },
  {
   "cell_type": "code",
   "execution_count": 3,
   "metadata": {},
   "outputs": [],
   "source": [
    "# Identify customers in the US and China\n",
    "customer_list = coy_customers[['customer_exchange','customer_ticker']].drop_duplicates()\n",
    "\n",
    "us_stocks = customer_list[customer_list['customer_exchange'].isin(us_exchanges)]\n",
    "china_stocks = customer_list[customer_list['customer_exchange'].isin(ch_exchanges)]"
   ]
  },
  {
   "cell_type": "code",
   "execution_count": 4,
   "metadata": {},
   "outputs": [
    {
     "data": {
      "text/plain": [
       "array(['ASX', 'ATSE', 'BIT', 'BOVESPA', 'BSE', 'CASE', 'COSE', 'Catalist',\n",
       "       'DB', 'DSE', 'ENXTAM', 'ENXTPA', 'GTSM', 'HOSE', 'IDX', 'JKSE',\n",
       "       'JSE', 'KLSE', 'KOSE', 'LSE', 'NYSE', 'NasdaqCM', 'NasdaqGM',\n",
       "       'NasdaqGS', 'OB', 'OM', 'OTCPK', 'Private', 'SEHK', 'SEP', 'SET',\n",
       "       'SGX', 'SHSE', 'SNSE', 'SWX', 'SZSE', 'TASE', 'TSE', 'TSEC', 'TSX',\n",
       "       'WSE', 'XTRA'], dtype=object)"
      ]
     },
     "execution_count": 4,
     "metadata": {},
     "output_type": "execute_result"
    }
   ],
   "source": [
    "# Exchanges\n",
    "np.unique(customer_list['customer_exchange'])"
   ]
  },
  {
   "cell_type": "code",
   "execution_count": 5,
   "metadata": {},
   "outputs": [],
   "source": [
    "# Download company and customer data\n",
    "if (os.path.exists(\"data/{}_prices.csv\".format(ticker))):\n",
    "    price_arr = pd.read_csv(\"data/{}_prices.csv\".format(ticker), index_col = 0)\n",
    "    price_arr.index = pd.to_datetime(price_arr.index)\n",
    "else :\n",
    "    print(\"Downloading {}...\".format(ticker))\n",
    "    price_arr = curr_download = quandl.get('EOD/{}'.format(ticker))\n",
    "    price_arr['ticker'] = ticker\n",
    "\n",
    "    # Download customer data\n",
    "    for index, row in us_stocks.iterrows():\n",
    "        print(\"Downloading {}...\".format(row['customer_ticker']))\n",
    "        try:\n",
    "            curr_download = quandl.get('EOD/{}'.format(row['customer_ticker']))\n",
    "            price_arr = price_arr.append(curr_download)\n",
    "\n",
    "        except:\n",
    "            print(\"Error in downloading {}, {}!\".format(row['customer_ticker'], row['customer_exchange']))\n",
    "    price_arr.columns = [x.lower() for x in price_arr.columns]\n",
    "    price_arr.to_csv(\"data/{}_prices.csv\".format(ticker))"
   ]
  },
  {
   "cell_type": "code",
   "execution_count": 6,
   "metadata": {},
   "outputs": [],
   "source": [
    "# Download China data\n",
    "if (os.path.exists(\"data/{}_ch_prices.csv\".format(ticker))):\n",
    "    price_china = pd.read_csv(\"data/{}_ch_prices.csv\".format(ticker), index_col = 0)\n",
    "    price_china.index = pd.to_datetime(price_china.index)\n",
    "else :\n",
    "    price_china = pd.DataFrame()\n",
    "    for index, row in china_stocks.iterrows():\n",
    "        try:\n",
    "            print(\"Downloading {}...\".format(row['customer_ticker']))\n",
    "            curr_download = quandl.get_table('DY/SPA', ticker = row['customer_ticker'])\n",
    "            price_china = price_china.append(curr_download)\n",
    "\n",
    "        except:\n",
    "            print(\"Error in downloading {}, {}!\".format(row['customer_ticker'], row['customer_exchange']))\n",
    "\n",
    "    price_china.columns = [x.lower() for x in price_china.columns]\n",
    "    price_china = price_china.set_index('date')\n",
    "    price_china.to_csv(\"data/{}_ch_prices.csv\".format(ticker))"
   ]
  },
  {
   "cell_type": "code",
   "execution_count": 7,
   "metadata": {},
   "outputs": [
    {
     "name": "stdout",
     "output_type": "stream",
     "text": [
      "Index(['open', 'high', 'low', 'close', 'volume', 'dividend', 'split',\n",
      "       'adj_open', 'adj_high', 'adj_low', 'adj_close', 'adj_volume', 'ticker'],\n",
      "      dtype='object')\n",
      "Index(['ticker', 'pre_close', 'open', 'high', 'low', 'close', 'adj_pre_close',\n",
      "       'adj_open', 'adj_high', 'adj_low', 'adj_close', 'turnover_volume',\n",
      "       'turnover_value', 'deal_amount', 'circulation_market_value',\n",
      "       'market_value', 'turnover_rate', 'adj_factor', 'adj_reason', 'name',\n",
      "       'description'],\n",
      "      dtype='object')\n"
     ]
    }
   ],
   "source": [
    "print(price_arr.columns)\n",
    "print(price_china.columns)"
   ]
  },
  {
   "cell_type": "code",
   "execution_count": 8,
   "metadata": {},
   "outputs": [
    {
     "data": {
      "text/html": [
       "<div>\n",
       "<style scoped>\n",
       "    .dataframe tbody tr th:only-of-type {\n",
       "        vertical-align: middle;\n",
       "    }\n",
       "\n",
       "    .dataframe tbody tr th {\n",
       "        vertical-align: top;\n",
       "    }\n",
       "\n",
       "    .dataframe thead th {\n",
       "        text-align: right;\n",
       "    }\n",
       "</style>\n",
       "<table border=\"1\" class=\"dataframe\">\n",
       "  <thead>\n",
       "    <tr style=\"text-align: right;\">\n",
       "      <th></th>\n",
       "      <th>ticker</th>\n",
       "      <th>adj_open</th>\n",
       "      <th>adj_high</th>\n",
       "      <th>adj_low</th>\n",
       "      <th>adj_close</th>\n",
       "      <th>adj_volume</th>\n",
       "    </tr>\n",
       "  </thead>\n",
       "  <tbody>\n",
       "    <tr>\n",
       "      <th>2019-09-24</th>\n",
       "      <td>600751</td>\n",
       "      <td>3.11</td>\n",
       "      <td>3.15</td>\n",
       "      <td>3.09</td>\n",
       "      <td>3.11</td>\n",
       "      <td>16283140.0</td>\n",
       "    </tr>\n",
       "    <tr>\n",
       "      <th>2019-09-25</th>\n",
       "      <td>600751</td>\n",
       "      <td>3.08</td>\n",
       "      <td>3.09</td>\n",
       "      <td>3.02</td>\n",
       "      <td>3.03</td>\n",
       "      <td>20506300.0</td>\n",
       "    </tr>\n",
       "    <tr>\n",
       "      <th>2019-09-26</th>\n",
       "      <td>600751</td>\n",
       "      <td>3.03</td>\n",
       "      <td>3.04</td>\n",
       "      <td>2.95</td>\n",
       "      <td>2.96</td>\n",
       "      <td>19883605.0</td>\n",
       "    </tr>\n",
       "    <tr>\n",
       "      <th>2019-09-27</th>\n",
       "      <td>600751</td>\n",
       "      <td>2.96</td>\n",
       "      <td>3.03</td>\n",
       "      <td>2.95</td>\n",
       "      <td>3.02</td>\n",
       "      <td>16595116.0</td>\n",
       "    </tr>\n",
       "    <tr>\n",
       "      <th>2019-09-30</th>\n",
       "      <td>600751</td>\n",
       "      <td>3.03</td>\n",
       "      <td>3.03</td>\n",
       "      <td>2.96</td>\n",
       "      <td>2.96</td>\n",
       "      <td>11525444.0</td>\n",
       "    </tr>\n",
       "  </tbody>\n",
       "</table>\n",
       "</div>"
      ],
      "text/plain": [
       "            ticker  adj_open  adj_high  adj_low  adj_close  adj_volume\n",
       "2019-09-24  600751      3.11      3.15     3.09       3.11  16283140.0\n",
       "2019-09-25  600751      3.08      3.09     3.02       3.03  20506300.0\n",
       "2019-09-26  600751      3.03      3.04     2.95       2.96  19883605.0\n",
       "2019-09-27  600751      2.96      3.03     2.95       3.02  16595116.0\n",
       "2019-09-30  600751      3.03      3.03     2.96       2.96  11525444.0"
      ]
     },
     "execution_count": 8,
     "metadata": {},
     "output_type": "execute_result"
    }
   ],
   "source": [
    "# Combine US and China\n",
    "price_arr = price_arr[['ticker', 'adj_open', 'adj_high','adj_low','adj_close','adj_volume']]\n",
    "price_china = price_china[['ticker', 'adj_open', 'adj_high','adj_low','adj_close','turnover_volume']]\n",
    "\n",
    "price_china.columns = ['ticker', 'adj_open', 'adj_high','adj_low','adj_close','adj_volume']\n",
    "price_arr = price_arr.append(price_china)\n",
    "price_arr.tail()"
   ]
  },
  {
   "cell_type": "code",
   "execution_count": 9,
   "metadata": {},
   "outputs": [],
   "source": [
    "# Calculate returns\n",
    "price_arr = price_arr['2015-01-01':'2019-09-30']\n",
    "price_wide = price_arr[['ticker','adj_close']].pivot(columns = 'ticker')\n",
    "returns_arr = price_wide / price_wide.shift(1) - 1\n",
    "returns_arr = returns_arr.fillna(0)[2:]  #Fill holidays with 0, remove first 2 rows\n",
    "\n",
    "returns_arr.columns = returns_arr.columns.droplevel()"
   ]
  },
  {
   "cell_type": "code",
   "execution_count": 10,
   "metadata": {},
   "outputs": [],
   "source": [
    "def add_lags(returns_arr, lags):\n",
    "    all_ret = returns_arr\n",
    "    \n",
    "    for lag in range(1, lags + 1):\n",
    "        returns_lagged = returns_arr.shift(lag)\n",
    "        returns_lagged.columns = [str(x) + \"_lag{}\".format(lag) for x in returns_lagged.columns.to_list()]\n",
    "        \n",
    "        all_ret = pd.concat([all_ret, returns_lagged], axis=1)\n",
    "    \n",
    "    return all_ret[lags:]"
   ]
  },
  {
   "cell_type": "code",
   "execution_count": 11,
   "metadata": {},
   "outputs": [],
   "source": [
    "returns_arr = add_lags(returns_arr, 10)"
   ]
  },
  {
   "cell_type": "code",
   "execution_count": 12,
   "metadata": {},
   "outputs": [],
   "source": [
    "target_stock = returns_arr[ticker]\n",
    "cust_stock = returns_arr[[x for x in returns_arr.columns if x != ticker]]\n",
    "\n",
    "cust_stock = cust_stock.shift(1)[1:] # Lag 1 for prediction"
   ]
  },
  {
   "cell_type": "code",
   "execution_count": 13,
   "metadata": {},
   "outputs": [
    {
     "data": {
      "text/plain": [
       "((1218, 505), (1218,))"
      ]
     },
     "execution_count": 13,
     "metadata": {},
     "output_type": "execute_result"
    }
   ],
   "source": [
    "X = cust_stock\n",
    "y = target_stock[1:]\n",
    "X.shape, y.shape"
   ]
  },
  {
   "cell_type": "code",
   "execution_count": 14,
   "metadata": {},
   "outputs": [],
   "source": [
    "from sklearn.model_selection import train_test_split\n",
    "from sklearn.linear_model import RidgeClassifierCV\n",
    "from sklearn.ensemble import RandomForestClassifier, AdaBoostClassifier\n",
    "from sklearn.pipeline import make_pipeline\n",
    "from sklearn.preprocessing import RobustScaler\n",
    "from sklearn.model_selection import TimeSeriesSplit\n",
    "from sklearn.svm import SVC\n",
    "from sklearn.gaussian_process import GaussianProcessClassifier\n",
    "from sklearn.gaussian_process.kernels import RBF\n",
    "from sklearn.neural_network import MLPClassifier\n",
    "import xgboost as xgb\n",
    "from xgboost import XGBClassifier\n",
    "from mlxtend.classifier import StackingCVClassifier\n",
    "from sklearn.metrics import confusion_matrix\n",
    "from sklearn.utils import class_weight\n",
    "\n",
    "# import warnings filter\n",
    "from warnings import simplefilter\n",
    "# ignore all future warnings\n",
    "simplefilter(action='ignore', category=FutureWarning)"
   ]
  },
  {
   "cell_type": "code",
   "execution_count": 15,
   "metadata": {},
   "outputs": [
    {
     "data": {
      "text/plain": [
       "((1096, 505), (122, 505))"
      ]
     },
     "execution_count": 15,
     "metadata": {},
     "output_type": "execute_result"
    }
   ],
   "source": [
    "X_train, X_test, y_train, y_test = train_test_split(X, y, test_size = 0.10, shuffle = False)\n",
    "#X_train, X_val, y_train, y_val = train_test_split(X_train, y_train, test_size = 0.15, shuffle = False)\n",
    "X_train.shape, X_test.shape"
   ]
  },
  {
   "cell_type": "code",
   "execution_count": 16,
   "metadata": {},
   "outputs": [],
   "source": [
    "std = y_train.std()\n",
    "y_train = pd.cut(y_train, [-500*std,-1*std, -0.5*std, 0.5*std, 1*std,500*std], labels=[-2,-1,0,1,2]) \n",
    "#y_val = pd.cut(y_val, [-500*std,-1*std, -0.5*std, 0.5*std, 1*std,500*std], labels=[-2,-1,0,1,2]) \n",
    "y_test = pd.cut(y_test, [-500*std,-1*std, -0.5*std, 0.5*std, 1*std,500*std], labels=[-2,-1,0,1,2]) "
   ]
  },
  {
   "cell_type": "code",
   "execution_count": 17,
   "metadata": {},
   "outputs": [],
   "source": [
    "alphas_alt = [0.01, 0.05, 0.1, 1, 5, 10]\n",
    "alphas2 = [5e-05, 0.0001, 0.0002, 0.0003, 0.0004, 0.0005, 0.0006, 0.0007, 0.0008]\n",
    "e_alphas = [0.0001, 0.0002, 0.0003, 0.0004, 0.0005, 0.0006, 0.0007]\n",
    "e_l1ratio = [0.8, 0.85, 0.9, 0.95, 0.99, 1]"
   ]
  },
  {
   "cell_type": "code",
   "execution_count": 18,
   "metadata": {},
   "outputs": [],
   "source": [
    "cw = class_weight.compute_class_weight('balanced', np.unique(y_train), y_train)\n",
    "cw = {-2:cw[0], -1:cw[1], 0:cw[2], 1:cw[3], 2:cw[4]}"
   ]
  },
  {
   "cell_type": "code",
   "execution_count": 19,
   "metadata": {},
   "outputs": [],
   "source": [
    "tscv = TimeSeriesSplit(n_splits=5)\n",
    "\n",
    "ridge = make_pipeline(RobustScaler(),\n",
    "                     RidgeClassifierCV(alphas = alphas_alt, cv = tscv, class_weight = cw))\n",
    "\n",
    "rfc = make_pipeline(RobustScaler(),\n",
    "                     RandomForestClassifier(n_estimators=50, max_depth=4,random_state=0, class_weight = cw))\n",
    "\n",
    "svc = make_pipeline(RobustScaler(),\n",
    "                    SVC(gamma='auto', class_weight = cw))\n",
    "\n",
    "svc_linear = make_pipeline(RobustScaler(),\n",
    "                           SVC(kernel=\"linear\", C=0.025, class_weight = cw))\n",
    "\n",
    "nn = make_pipeline(RobustScaler(),\n",
    "                  MLPClassifier(alpha=10, max_iter=1000),)\n",
    "\n",
    "xgboost = make_pipeline(RobustScaler(),\n",
    "                  XGBClassifier(learning_rate=0.01, n_estimators=50,\n",
    "                                max_depth=3, min_child_weight=0,\n",
    "                                gamma=10))   \n",
    "\n",
    "ada = make_pipeline(RobustScaler(),\n",
    "                   AdaBoostClassifier(n_estimators = 200, learning_rate = 0.05))\n"
   ]
  },
  {
   "cell_type": "code",
   "execution_count": 20,
   "metadata": {},
   "outputs": [
    {
     "data": {
      "text/plain": [
       "Pipeline(memory=None,\n",
       "         steps=[('robustscaler',\n",
       "                 RobustScaler(copy=True, quantile_range=(25.0, 75.0),\n",
       "                              with_centering=True, with_scaling=True)),\n",
       "                ('randomforestclassifier',\n",
       "                 RandomForestClassifier(bootstrap=True,\n",
       "                                        class_weight={-2: 1.842016806722689,\n",
       "                                                      -1: 2.0485981308411216,\n",
       "                                                      0: 0.3792387543252595,\n",
       "                                                      1: 1.3284848484848484,\n",
       "                                                      2: 1.725984251968504},\n",
       "                                        criterion='gini', max_depth=4,\n",
       "                                        max_features='auto',\n",
       "                                        max_leaf_nodes=None,\n",
       "                                        min_impurity_decrease=0.0,\n",
       "                                        min_impurity_split=None,\n",
       "                                        min_samples_leaf=1, min_samples_split=2,\n",
       "                                        min_weight_fraction_leaf=0.0,\n",
       "                                        n_estimators=50, n_jobs=None,\n",
       "                                        oob_score=False, random_state=0,\n",
       "                                        verbose=0, warm_start=False))],\n",
       "         verbose=False)"
      ]
     },
     "execution_count": 20,
     "metadata": {},
     "output_type": "execute_result"
    }
   ],
   "source": [
    "rfc.fit(np.array(X_train), np.array(y_train))\n"
   ]
  },
  {
   "cell_type": "code",
   "execution_count": 21,
   "metadata": {},
   "outputs": [],
   "source": [
    "stack_gen = StackingCVClassifier(classifiers=(ridge, rfc, svc, svc_linear, nn, xgboost, ada),\n",
    "                               meta_classifier=xgboost,\n",
    "                               use_features_in_secondary=True)"
   ]
  },
  {
   "cell_type": "code",
   "execution_count": 22,
   "metadata": {},
   "outputs": [
    {
     "name": "stdout",
     "output_type": "stream",
     "text": [
      "0.5273722627737226 0.4344262295081967\n",
      "CPU times: user 1min 6s, sys: 1.25 s, total: 1min 7s\n",
      "Wall time: 1min 3s\n"
     ]
    }
   ],
   "source": [
    "%%time\n",
    "# Fit data\n",
    "stack_gen.fit(np.array(X_train), np.array(y_train))\n",
    "print(stack_gen.score(X_train,y_train), stack_gen.score(X_test, y_test))"
   ]
  },
  {
   "cell_type": "code",
   "execution_count": null,
   "metadata": {},
   "outputs": [
    {
     "name": "stdout",
     "output_type": "stream",
     "text": [
      "START Fit\n",
      "2019-10-20 01:16:55.235157 Ridge\n",
      "2019-10-20 01:16:55.774705 RandomForest\n",
      "2019-10-20 01:16:56.188794 SVC\n",
      "2019-10-20 01:16:57.798689 SVC (linear)\n"
     ]
    }
   ],
   "source": [
    "%%time\n",
    "print('START Fit')\n",
    "print(datetime.now(), 'Ridge')\n",
    "ridge_model = ridge.fit(np.array(X_train), np.array(y_train))\n",
    "print(datetime.now(), 'RandomForest')\n",
    "rfc_model = rfc.fit(X_train, y_train)\n",
    "print(datetime.now(), 'SVC')\n",
    "svc_model = svc.fit(X_train, y_train)\n",
    "print(datetime.now(), 'SVC (linear)')\n",
    "svc_linear_model = svc_linear.fit(X_train, y_train)\n",
    "#print(datetime.now(), 'Gaussian Probability')\n",
    "#gpc_model = gpc.fit(X_train, y_train)\n",
    "print(datetime.now(), 'Neural Network')\n",
    "nn_model = nn.fit(X_train, y_train)\n",
    "print(datetime.now(), 'xgboost')\n",
    "xgb_model = xgboost.fit(X_train, y_train, xgbclassifier__sample_weight = cw)\n",
    "#print(datetime.now(), 'AdaBoost')\n",
    "#ada_model = ada.fit(X_train, y_train, adaboostclassifier__sample_weight = cw)"
   ]
  },
  {
   "cell_type": "code",
   "execution_count": 757,
   "metadata": {},
   "outputs": [
    {
     "name": "stdout",
     "output_type": "stream",
     "text": [
      "0.028284671532846715 0.07481751824817519 0.0666058394160584 0.05200729927007299 0.06751824817518248 0.07025547445255474 0.004562043795620438 -0.002737226277372263\n"
     ]
    }
   ],
   "source": [
    "print(ridge_model.predict(X_train).mean(),\n",
    "      rfc_model.predict(X_train).mean(),\n",
    "      svc_model.predict(X_train).mean(),\n",
    "      svc_linear_model.predict(X_train).mean(),\n",
    "      gpc_model.predict(X_train).mean(),\n",
    "      nn_model.predict(X_train).mean(),\n",
    "      xgb_model.predict(X_train).mean(),\n",
    "      ada_model.predict(X_train).mean())\n",
    "      \n",
    "      "
   ]
  },
  {
   "cell_type": "code",
   "execution_count": 758,
   "metadata": {},
   "outputs": [
    {
     "data": {
      "text/plain": [
       "0.38524590163934425"
      ]
     },
     "execution_count": 758,
     "metadata": {},
     "output_type": "execute_result"
    }
   ],
   "source": [
    "nn_model.score(X_test, y_test)"
   ]
  },
  {
   "cell_type": "code",
   "execution_count": 772,
   "metadata": {},
   "outputs": [
    {
     "data": {
      "text/plain": [
       "array([ 0,  0,  0,  0,  0,  0,  0,  0,  0,  0,  0,  0,  0,  0,  0,  0,  0,\n",
       "        0,  0,  0,  0,  0,  0,  0,  0,  0,  0,  0,  0,  0,  0,  0,  0,  0,\n",
       "        0,  0,  0,  2,  0,  0,  0,  0,  0,  0,  0,  0,  0,  0,  0,  0,  0,\n",
       "       -2,  0,  0,  0,  0,  0,  0,  0,  0,  0,  0,  1,  0,  0,  0,  0, -2,\n",
       "        0,  0,  0,  0,  0,  0,  0,  0,  0,  0,  0,  0,  0,  0,  0,  0,  0,\n",
       "        0,  0,  0,  0,  0,  0,  0,  0,  0,  0,  0,  0,  0,  0,  0,  0,  0,\n",
       "        0,  0,  0,  0,  0,  0,  1,  0,  0,  0,  0,  0,  0,  0,  0,  0,  0,\n",
       "        0,  0,  0])"
      ]
     },
     "execution_count": 772,
     "metadata": {},
     "output_type": "execute_result"
    }
   ],
   "source": [
    "xgb_model.predict(X_test)"
   ]
  },
  {
   "cell_type": "code",
   "execution_count": 766,
   "metadata": {},
   "outputs": [
    {
     "data": {
      "text/plain": [
       "array([[ 0,  4,  8,  1,  4],\n",
       "       [ 6,  0, 10,  5,  7],\n",
       "       [ 4,  4, 13,  5,  4],\n",
       "       [ 3,  3,  6,  5,  5],\n",
       "       [ 3,  0, 16,  2,  4]])"
      ]
     },
     "execution_count": 766,
     "metadata": {},
     "output_type": "execute_result"
    }
   ],
   "source": [
    "confusion_matrix(ridge_model.predict(X_test), y_test)"
   ]
  },
  {
   "cell_type": "code",
   "execution_count": 690,
   "metadata": {},
   "outputs": [
    {
     "data": {
      "text/plain": [
       " 0    53\n",
       " 2    24\n",
       " 1    18\n",
       "-2    16\n",
       "-1    12\n",
       "Name: AAPL, dtype: int64"
      ]
     },
     "execution_count": 690,
     "metadata": {},
     "output_type": "execute_result"
    }
   ],
   "source": [
    "y_test.value_counts()"
   ]
  },
  {
   "cell_type": "code",
   "execution_count": 684,
   "metadata": {},
   "outputs": [
    {
     "data": {
      "text/plain": [
       "(Pipeline(memory=None,\n",
       "          steps=[('robustscaler',\n",
       "                  RobustScaler(copy=True, quantile_range=(25.0, 75.0),\n",
       "                               with_centering=True, with_scaling=True)),\n",
       "                 ('ridgeclassifiercv',\n",
       "                  RidgeClassifierCV(alphas=array([ 0.01,  0.05,  0.1 ,  1.  ,  5.  , 10.  ]),\n",
       "                                    class_weight=None,\n",
       "                                    cv=TimeSeriesSplit(max_train_size=None, n_splits=5),\n",
       "                                    fit_intercept=True, normalize=False,\n",
       "                                    scoring=None, store_cv_values=False))],\n",
       "          verbose=False), Pipeline(memory=None,\n",
       "          steps=[('robustscaler',\n",
       "                  RobustScaler(copy=True, quantile_range=(25.0, 75.0),\n",
       "                               with_centering=True, with_scaling=True)),\n",
       "                 ('svc',\n",
       "                  SVC(C=0.025, cache_size=200, class_weight=None, coef0=0.0,\n",
       "                      decision_function_shape='ovr', degree=3,\n",
       "                      gamma='auto_deprecated', kernel='linear', max_iter=-1,\n",
       "                      probability=False, random_state=None, shrinking=True,\n",
       "                      tol=0.001, verbose=False))],\n",
       "          verbose=False), Pipeline(memory=None,\n",
       "          steps=[('robustscaler',\n",
       "                  RobustScaler(copy=True, quantile_range=(25.0, 75.0),\n",
       "                               with_centering=True, with_scaling=True)),\n",
       "                 ('mlpclassifier',\n",
       "                  MLPClassifier(activation='relu', alpha=10, batch_size='auto',\n",
       "                                beta_1=0.9, beta_2=0.999, early_stopping=False,\n",
       "                                epsilon=1e-08, hidden_layer_sizes=(100,),\n",
       "                                learning_rate='constant',\n",
       "                                learning_rate_init=0.001, max_iter=1000,\n",
       "                                momentum=0.9, n_iter_no_change=10,\n",
       "                                nesterovs_momentum=True, power_t=0.5,\n",
       "                                random_state=None, shuffle=True, solver='adam',\n",
       "                                tol=0.0001, validation_fraction=0.1,\n",
       "                                verbose=False, warm_start=False))],\n",
       "          verbose=False))"
      ]
     },
     "execution_count": 684,
     "metadata": {},
     "output_type": "execute_result"
    }
   ],
   "source": [
    "ridge_model, svc_linear_model, nn_model"
   ]
  },
  {
   "cell_type": "code",
   "execution_count": null,
   "metadata": {},
   "outputs": [],
   "source": [
    "def blend_models_predict(X):\n",
    "    return ((0.1 * elastic_model_full_data.predict(X)) +\n",
    "           0.1 * lasso_model_full_data.predict(X) + \n",
    "           0.1 * ridge_model_full_data.predict(X) + \n",
    "           0.1 * svr_model_full_data.predict(X) + \n",
    "           0.1 * gbr_model_full_data.predict(X) + \n",
    "           0.15 * xgb_model_full_data.predict(X) + \n",
    "           0.1 * lgb_model_full_data.predict(X) + \n",
    "           0.25 * stack_gen_model.predict(np.array(X)))\n",
    "\n",
    "print(\"RMSLE score on train data\")\n",
    "print(rmsle(y, blend_models_predict(X)))"
   ]
  },
  {
   "cell_type": "markdown",
   "metadata": {},
   "source": [
    "# Generate timeseries for customers "
   ]
  },
  {
   "cell_type": "code",
   "execution_count": 263,
   "metadata": {},
   "outputs": [
    {
     "data": {
      "text/html": [
       "<div>\n",
       "<style scoped>\n",
       "    .dataframe tbody tr th:only-of-type {\n",
       "        vertical-align: middle;\n",
       "    }\n",
       "\n",
       "    .dataframe tbody tr th {\n",
       "        vertical-align: top;\n",
       "    }\n",
       "\n",
       "    .dataframe thead th {\n",
       "        text-align: right;\n",
       "    }\n",
       "</style>\n",
       "<table border=\"1\" class=\"dataframe\">\n",
       "  <thead>\n",
       "    <tr style=\"text-align: right;\">\n",
       "      <th></th>\n",
       "      <th>publish_date</th>\n",
       "      <th>public_domain_date</th>\n",
       "      <th>accounting_as_of_date</th>\n",
       "      <th>supplier_name</th>\n",
       "      <th>supplier_isin</th>\n",
       "      <th>supplier_lei</th>\n",
       "      <th>supplier_exchange</th>\n",
       "      <th>supplier_ticker</th>\n",
       "      <th>customer_name</th>\n",
       "      <th>customer_isin</th>\n",
       "      <th>customer_lei</th>\n",
       "      <th>customer_exchange</th>\n",
       "      <th>customer_ticker</th>\n",
       "      <th>reporting_year</th>\n",
       "      <th>reporting_period</th>\n",
       "      <th>revenue_dependency</th>\n",
       "      <th>revenue_dependency_annotation</th>\n",
       "    </tr>\n",
       "    <tr>\n",
       "      <th>None</th>\n",
       "      <th></th>\n",
       "      <th></th>\n",
       "      <th></th>\n",
       "      <th></th>\n",
       "      <th></th>\n",
       "      <th></th>\n",
       "      <th></th>\n",
       "      <th></th>\n",
       "      <th></th>\n",
       "      <th></th>\n",
       "      <th></th>\n",
       "      <th></th>\n",
       "      <th></th>\n",
       "      <th></th>\n",
       "      <th></th>\n",
       "      <th></th>\n",
       "      <th></th>\n",
       "    </tr>\n",
       "  </thead>\n",
       "  <tbody>\n",
       "    <tr>\n",
       "      <th>88</th>\n",
       "      <td>2018-05-18</td>\n",
       "      <td>NaT</td>\n",
       "      <td>NaT</td>\n",
       "      <td>Apple Inc.</td>\n",
       "      <td>US0378331005</td>\n",
       "      <td>HWUPKR0MPOU8FGXBT394</td>\n",
       "      <td>NasdaqGS</td>\n",
       "      <td>AAPL</td>\n",
       "      <td>America Movil S.A.B. de C.V.</td>\n",
       "      <td>MXP001691213</td>\n",
       "      <td>5493000FNR3UCEAONM59</td>\n",
       "      <td>NYSE</td>\n",
       "      <td>AMX</td>\n",
       "      <td>NaN</td>\n",
       "      <td>NaN</td>\n",
       "      <td>NaN</td>\n",
       "      <td>Non Quantifiable</td>\n",
       "    </tr>\n",
       "    <tr>\n",
       "      <th>265</th>\n",
       "      <td>2018-06-12</td>\n",
       "      <td>NaT</td>\n",
       "      <td>NaT</td>\n",
       "      <td>Apple Inc.</td>\n",
       "      <td>US0378331005</td>\n",
       "      <td>HWUPKR0MPOU8FGXBT394</td>\n",
       "      <td>NasdaqGS</td>\n",
       "      <td>AAPL</td>\n",
       "      <td>America Movil S.A.B. de C.V.</td>\n",
       "      <td>MXP001691213</td>\n",
       "      <td>5493000FNR3UCEAONM59</td>\n",
       "      <td>NYSE</td>\n",
       "      <td>AMX</td>\n",
       "      <td>NaN</td>\n",
       "      <td>NaN</td>\n",
       "      <td>NaN</td>\n",
       "      <td>Non Quantifiable</td>\n",
       "    </tr>\n",
       "    <tr>\n",
       "      <th>442</th>\n",
       "      <td>2018-07-09</td>\n",
       "      <td>NaT</td>\n",
       "      <td>NaT</td>\n",
       "      <td>Apple Inc.</td>\n",
       "      <td>US0378331005</td>\n",
       "      <td>HWUPKR0MPOU8FGXBT394</td>\n",
       "      <td>NasdaqGS</td>\n",
       "      <td>AAPL</td>\n",
       "      <td>America Movil S.A.B. de C.V.</td>\n",
       "      <td>MXP001691213</td>\n",
       "      <td>5493000FNR3UCEAONM59</td>\n",
       "      <td>NYSE</td>\n",
       "      <td>AMX</td>\n",
       "      <td>NaN</td>\n",
       "      <td>NaN</td>\n",
       "      <td>NaN</td>\n",
       "      <td>Non Quantifiable</td>\n",
       "    </tr>\n",
       "    <tr>\n",
       "      <th>619</th>\n",
       "      <td>2018-08-08</td>\n",
       "      <td>NaT</td>\n",
       "      <td>NaT</td>\n",
       "      <td>Apple Inc.</td>\n",
       "      <td>US0378331005</td>\n",
       "      <td>HWUPKR0MPOU8FGXBT394</td>\n",
       "      <td>NasdaqGS</td>\n",
       "      <td>AAPL</td>\n",
       "      <td>America Movil S.A.B. de C.V.</td>\n",
       "      <td>MXP001691213</td>\n",
       "      <td>5493000FNR3UCEAONM59</td>\n",
       "      <td>NYSE</td>\n",
       "      <td>AMX</td>\n",
       "      <td>NaN</td>\n",
       "      <td>NaN</td>\n",
       "      <td>NaN</td>\n",
       "      <td>Non Quantifiable</td>\n",
       "    </tr>\n",
       "    <tr>\n",
       "      <th>796</th>\n",
       "      <td>2018-05-18</td>\n",
       "      <td>NaT</td>\n",
       "      <td>NaT</td>\n",
       "      <td>Apple Inc.</td>\n",
       "      <td>US0378331005</td>\n",
       "      <td>HWUPKR0MPOU8FGXBT394</td>\n",
       "      <td>NasdaqGS</td>\n",
       "      <td>AAPL</td>\n",
       "      <td>America Movil S.A.B. de C.V.</td>\n",
       "      <td>MXP001691213</td>\n",
       "      <td>5493000FNR3UCEAONM59</td>\n",
       "      <td>NYSE</td>\n",
       "      <td>AMX</td>\n",
       "      <td>NaN</td>\n",
       "      <td>NaN</td>\n",
       "      <td>NaN</td>\n",
       "      <td>Non Quantifiable</td>\n",
       "    </tr>\n",
       "  </tbody>\n",
       "</table>\n",
       "</div>"
      ],
      "text/plain": [
       "     publish_date public_domain_date accounting_as_of_date supplier_name  \\\n",
       "None                                                                       \n",
       "88     2018-05-18                NaT                   NaT    Apple Inc.   \n",
       "265    2018-06-12                NaT                   NaT    Apple Inc.   \n",
       "442    2018-07-09                NaT                   NaT    Apple Inc.   \n",
       "619    2018-08-08                NaT                   NaT    Apple Inc.   \n",
       "796    2018-05-18                NaT                   NaT    Apple Inc.   \n",
       "\n",
       "     supplier_isin          supplier_lei supplier_exchange supplier_ticker  \\\n",
       "None                                                                         \n",
       "88    US0378331005  HWUPKR0MPOU8FGXBT394          NasdaqGS            AAPL   \n",
       "265   US0378331005  HWUPKR0MPOU8FGXBT394          NasdaqGS            AAPL   \n",
       "442   US0378331005  HWUPKR0MPOU8FGXBT394          NasdaqGS            AAPL   \n",
       "619   US0378331005  HWUPKR0MPOU8FGXBT394          NasdaqGS            AAPL   \n",
       "796   US0378331005  HWUPKR0MPOU8FGXBT394          NasdaqGS            AAPL   \n",
       "\n",
       "                     customer_name customer_isin          customer_lei  \\\n",
       "None                                                                     \n",
       "88    America Movil S.A.B. de C.V.  MXP001691213  5493000FNR3UCEAONM59   \n",
       "265   America Movil S.A.B. de C.V.  MXP001691213  5493000FNR3UCEAONM59   \n",
       "442   America Movil S.A.B. de C.V.  MXP001691213  5493000FNR3UCEAONM59   \n",
       "619   America Movil S.A.B. de C.V.  MXP001691213  5493000FNR3UCEAONM59   \n",
       "796   America Movil S.A.B. de C.V.  MXP001691213  5493000FNR3UCEAONM59   \n",
       "\n",
       "     customer_exchange customer_ticker  reporting_year  reporting_period  \\\n",
       "None                                                                       \n",
       "88                NYSE             AMX             NaN               NaN   \n",
       "265               NYSE             AMX             NaN               NaN   \n",
       "442               NYSE             AMX             NaN               NaN   \n",
       "619               NYSE             AMX             NaN               NaN   \n",
       "796               NYSE             AMX             NaN               NaN   \n",
       "\n",
       "      revenue_dependency revenue_dependency_annotation  \n",
       "None                                                    \n",
       "88                   NaN              Non Quantifiable  \n",
       "265                  NaN              Non Quantifiable  \n",
       "442                  NaN              Non Quantifiable  \n",
       "619                  NaN              Non Quantifiable  \n",
       "796                  NaN              Non Quantifiable  "
      ]
     },
     "execution_count": 263,
     "metadata": {},
     "output_type": "execute_result"
    }
   ],
   "source": [
    "coy_customers[coy_customers['customer_ticker'] == \"AMX\"].head()"
   ]
  },
  {
   "cell_type": "code",
   "execution_count": 261,
   "metadata": {
    "collapsed": true,
    "jupyter": {
     "outputs_hidden": true
    }
   },
   "outputs": [
    {
     "data": {
      "text/plain": [
       "customer_ticker\n",
       "AMX           NaT\n",
       "BBY    2010-04-28\n",
       "CDW           NaT\n",
       "CHL    2014-04-08\n",
       "CNV           NaT\n",
       "CNXN          NaT\n",
       "DCM    2010-06-24\n",
       "DFS           NaT\n",
       "DPZ           NaT\n",
       "EEFT          NaT\n",
       "GRPN          NaT\n",
       "HAS           NaT\n",
       "HAWK          NaT\n",
       "HBAN          NaT\n",
       "HGG           NaT\n",
       "IBM           NaT\n",
       "IM     2013-05-07\n",
       "LKM           NaT\n",
       "LXK           NaT\n",
       "MEET          NaT\n",
       "MOBL          NaT\n",
       "NETE          NaT\n",
       "NEWR          NaT\n",
       "NIHD          NaT\n",
       "NSIT          NaT\n",
       "NTRS          NaT\n",
       "NXTM          NaT\n",
       "PCMI          NaT\n",
       "PHG           NaT\n",
       "PLUS          NaT\n",
       "PNRA          NaT\n",
       "RCII          NaT\n",
       "S      2014-05-27\n",
       "T      2014-02-21\n",
       "TDOC          NaT\n",
       "TECD   2012-03-21\n",
       "TMUS   2014-02-25\n",
       "TTWO          NaT\n",
       "TWTR          NaT\n",
       "USM           NaT\n",
       "VZ     2006-03-14\n",
       "XRX           NaT\n",
       "Name: public_domain_date, dtype: datetime64[ns]"
      ]
     },
     "execution_count": 261,
     "metadata": {},
     "output_type": "execute_result"
    }
   ],
   "source": [
    "coy_customers[coy_customers['customer_exchange'].isin(us_exchanges)].groupby(['customer_ticker'])['public_domain_date'].min()"
   ]
  },
  {
   "cell_type": "markdown",
   "metadata": {},
   "source": [
    "# Get refinitive price"
   ]
  },
  {
   "cell_type": "code",
   "execution_count": 33,
   "metadata": {},
   "outputs": [],
   "source": [
    "# Global functions - make HTTP GET reqeust\n",
    "def get_data_request(url, requestData):\n",
    "    dResp = requests.get(url, headers = {'X-api-key': access_token}, params = requestData);       \n",
    "\n",
    "    \n",
    "    if dResp.status_code != 200:\n",
    "        print(\"Unable to get data. Code %s, Message: %s\" % (dResp.status_code, dResp.text));\n",
    "    else:\n",
    "        print(\"Data access successful\")\n",
    "        jResp = json.loads(dResp.text);\n",
    "        return jResp"
   ]
  },
  {
   "cell_type": "code",
   "execution_count": 56,
   "metadata": {},
   "outputs": [
    {
     "name": "stdout",
     "output_type": "stream",
     "text": [
      "Unable to get data. Code 400, Message: Field: end must be on or before 2019-06-30\n"
     ]
    },
    {
     "data": {
      "text/html": [
       "<div>\n",
       "<style scoped>\n",
       "    .dataframe tbody tr th:only-of-type {\n",
       "        vertical-align: middle;\n",
       "    }\n",
       "\n",
       "    .dataframe tbody tr th {\n",
       "        vertical-align: top;\n",
       "    }\n",
       "\n",
       "    .dataframe thead th {\n",
       "        text-align: right;\n",
       "    }\n",
       "</style>\n",
       "<table border=\"1\" class=\"dataframe\">\n",
       "  <thead>\n",
       "    <tr style=\"text-align: right;\">\n",
       "      <th></th>\n",
       "      <th>DATE</th>\n",
       "      <th>CLOSE</th>\n",
       "      <th>BID</th>\n",
       "    </tr>\n",
       "    <tr>\n",
       "      <th>DATE</th>\n",
       "      <th></th>\n",
       "      <th></th>\n",
       "      <th></th>\n",
       "    </tr>\n",
       "  </thead>\n",
       "  <tbody>\n",
       "    <tr>\n",
       "      <th>2016-11-01</th>\n",
       "      <td>2016-11-01</td>\n",
       "      <td>111.49</td>\n",
       "      <td>111.48</td>\n",
       "    </tr>\n",
       "    <tr>\n",
       "      <th>2016-11-02</th>\n",
       "      <td>2016-11-02</td>\n",
       "      <td>111.59</td>\n",
       "      <td>111.60</td>\n",
       "    </tr>\n",
       "    <tr>\n",
       "      <th>2016-11-03</th>\n",
       "      <td>2016-11-03</td>\n",
       "      <td>109.83</td>\n",
       "      <td>109.82</td>\n",
       "    </tr>\n",
       "    <tr>\n",
       "      <th>2016-11-04</th>\n",
       "      <td>2016-11-04</td>\n",
       "      <td>108.84</td>\n",
       "      <td>108.84</td>\n",
       "    </tr>\n",
       "    <tr>\n",
       "      <th>2016-11-07</th>\n",
       "      <td>2016-11-07</td>\n",
       "      <td>110.41</td>\n",
       "      <td>110.40</td>\n",
       "    </tr>\n",
       "  </tbody>\n",
       "</table>\n",
       "</div>"
      ],
      "text/plain": [
       "                  DATE   CLOSE     BID\n",
       "DATE                                  \n",
       "2016-11-01  2016-11-01  111.49  111.48\n",
       "2016-11-02  2016-11-02  111.59  111.60\n",
       "2016-11-03  2016-11-03  109.83  109.82\n",
       "2016-11-04  2016-11-04  108.84  108.84\n",
       "2016-11-07  2016-11-07  110.41  110.40"
      ]
     },
     "execution_count": 56,
     "metadata": {},
     "output_type": "execute_result"
    }
   ],
   "source": [
    "ric = 'AAPL.O' # APPLE\n",
    "start_date = '2016-11-01'\n",
    "end_date = '2019-06-30'\n",
    "\n",
    "RESOURCE_ENDPOINT = \"https://dsa-stg-edp-api.fr-nonprod.aws.thomsonreuters.com/data/historical-pricing/beta1/views/summaries/\" + ric\n",
    "access_token = 'KihQNsQ4zK9hitOqy1AoN4F2GJA8Hhwh4JMXn8bL'  # your personal key for Data Science Accelerator access to Pricing Data\n",
    "requestData = {\n",
    "    \"interval\": \"P1D\",\n",
    "    \"start\": start_date,\n",
    "    \"end\": end_date,\n",
    "    \"fields\": 'TRDPRC_1,BID,ASK,OPEN_PRC,HIGH_1,LOW_1,TRDPRC_1,NUM_MOVES,TRNOVR_UNS'\n",
    "};\n",
    "\n",
    "jResp = get_data_request(RESOURCE_ENDPOINT, requestData)\n",
    "\n",
    "\n",
    "if jResp is not None:\n",
    "    data = jResp[0]['data']\n",
    "    headers = jResp[0]['headers']  \n",
    "    names = [headers[x]['name'] for x in range(len(headers))]\n",
    "    close_price = pd.DataFrame(data, columns=names )\n",
    "    \n",
    "close_price.columns = ['DATE', 'CLOSE', 'BID']\n",
    "close_price.set_index(pd.to_datetime(close_price.DATE), inplace=True) # set the index to be the DATE\n",
    "close_price.sort_index(inplace=True)  # sort the dataframe by the newly created datetime index\n",
    "\n",
    "close_price.head()"
   ]
  },
  {
   "cell_type": "code",
   "execution_count": null,
   "metadata": {},
   "outputs": [],
   "source": []
  }
 ],
 "metadata": {
  "kernelspec": {
   "display_name": "conda_tensorflow_p36",
   "language": "python",
   "name": "conda_tensorflow_p36"
  },
  "language_info": {
   "codemirror_mode": {
    "name": "ipython",
    "version": 3
   },
   "file_extension": ".py",
   "mimetype": "text/x-python",
   "name": "python",
   "nbconvert_exporter": "python",
   "pygments_lexer": "ipython3",
   "version": "3.6.5"
  }
 },
 "nbformat": 4,
 "nbformat_minor": 4
}
